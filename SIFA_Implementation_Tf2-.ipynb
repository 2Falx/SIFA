{
 "cells": [
  {
   "cell_type": "markdown",
   "id": "73d41be8",
   "metadata": {},
   "source": [
    "\n",
    "## SIFA IMPLEMENTATION -- Tensorflow v2"
   ]
  },
  {
   "cell_type": "markdown",
   "id": "178740c6",
   "metadata": {},
   "source": [
    "#### Check GPU in use"
   ]
  },
  {
   "cell_type": "code",
   "execution_count": 1,
   "id": "5ff5499a",
   "metadata": {
    "scrolled": true
   },
   "outputs": [
    {
     "name": "stdout",
     "output_type": "stream",
     "text": [
      "Sun Jun 26 16:59:34 2022       \r\n",
      "+-----------------------------------------------------------------------------+\r\n",
      "| NVIDIA-SMI 470.86       Driver Version: 470.86       CUDA Version: 11.4     |\r\n",
      "|-------------------------------+----------------------+----------------------+\r\n",
      "| GPU  Name        Persistence-M| Bus-Id        Disp.A | Volatile Uncorr. ECC |\r\n",
      "| Fan  Temp  Perf  Pwr:Usage/Cap|         Memory-Usage | GPU-Util  Compute M. |\r\n",
      "|                               |                      |               MIG M. |\r\n",
      "|===============================+======================+======================|\r\n",
      "|   0  NVIDIA TITAN Xp     Off  | 00000000:01:00.0 Off |                  N/A |\r\n",
      "| 23%   29C    P8    10W / 250W |     16MiB / 12194MiB |      0%      Default |\r\n",
      "|                               |                      |                  N/A |\r\n",
      "+-------------------------------+----------------------+----------------------+\r\n",
      "                                                                               \r\n",
      "+-----------------------------------------------------------------------------+\r\n",
      "| Processes:                                                                  |\r\n",
      "|  GPU   GI   CI        PID   Type   Process name                  GPU Memory |\r\n",
      "|        ID   ID                                                   Usage      |\r\n",
      "|=============================================================================|\r\n",
      "|    0   N/A  N/A       826      G   /usr/lib/xorg/Xorg                  9MiB |\r\n",
      "|    0   N/A  N/A      1247      G   /usr/bin/gnome-shell                4MiB |\r\n",
      "+-----------------------------------------------------------------------------+\r\n"
     ]
    }
   ],
   "source": [
    "!nvidia-smi"
   ]
  },
  {
   "cell_type": "code",
   "execution_count": 2,
   "id": "8532fa3e",
   "metadata": {},
   "outputs": [
    {
     "name": "stdout",
     "output_type": "stream",
     "text": [
      "Python 3.8.10\r\n"
     ]
    }
   ],
   "source": [
    "!python --version"
   ]
  },
  {
   "cell_type": "markdown",
   "id": "ceb1a7e4",
   "metadata": {},
   "source": [
    "#### Clone SIFA from github"
   ]
  },
  {
   "cell_type": "code",
   "execution_count": 3,
   "id": "38ccfc1a",
   "metadata": {},
   "outputs": [
    {
     "name": "stdout",
     "output_type": "stream",
     "text": [
      "/home/falcetta/FINAL_VERSION/SIFA-Tensorflow2\n"
     ]
    }
   ],
   "source": [
    "# Set the home path\n",
    "home_path = \"/home/falcetta/FINAL_VERSION/SIFA-Tensorflow2\"\n",
    "%cd {home_path}\n",
    "\n",
    "#!git clone https://github.com/2Falx/SIFA"
   ]
  },
  {
   "cell_type": "code",
   "execution_count": 4,
   "id": "e133d12c",
   "metadata": {},
   "outputs": [
    {
     "data": {
      "text/html": [
       "<style>.output_png {\n",
       "    display: table-cell;\n",
       "    text-align: center;\n",
       "    vertical-align: middle;}\n",
       "    </style>"
      ],
      "text/plain": [
       "<IPython.core.display.HTML object>"
      ]
     },
     "execution_count": 4,
     "metadata": {},
     "output_type": "execute_result"
    }
   ],
   "source": [
    "from IPython.core.display import HTML\n",
    "HTML(\"\"\"<style>.output_png {\n",
    "    display: table-cell;\n",
    "    text-align: center;\n",
    "    vertical-align: middle;}\n",
    "    </style>\"\"\")"
   ]
  },
  {
   "cell_type": "code",
   "execution_count": 5,
   "id": "eedf7005",
   "metadata": {},
   "outputs": [
    {
     "data": {
      "text/html": [
       "<img src=\"Architecture.png\"/>"
      ],
      "text/plain": [
       "<IPython.core.display.Image object>"
      ]
     },
     "execution_count": 5,
     "metadata": {},
     "output_type": "execute_result"
    }
   ],
   "source": [
    "from IPython.display import Image\n",
    "Image(url=\"Architecture.png\")"
   ]
  },
  {
   "cell_type": "code",
   "execution_count": 6,
   "id": "251cf061",
   "metadata": {},
   "outputs": [
    {
     "data": {
      "text/html": [
       "<img src=\"sample_data.png\"/>"
      ],
      "text/plain": [
       "<IPython.core.display.Image object>"
      ]
     },
     "execution_count": 6,
     "metadata": {},
     "output_type": "execute_result"
    }
   ],
   "source": [
    "from IPython.display import Image\n",
    "Image(url=\"sample_data.png\")"
   ]
  },
  {
   "cell_type": "markdown",
   "id": "4e6ad990",
   "metadata": {},
   "source": [
    "#### Install and Import useful libraries"
   ]
  },
  {
   "cell_type": "code",
   "execution_count": 7,
   "id": "1b72dec3",
   "metadata": {},
   "outputs": [],
   "source": [
    "#!pip install medpy\n",
    "#!python3 -m pip install --upgrade Pillow # ==> PIL\n",
    "#!pip install matplotlib\n",
    "#!pip install opencv-python # ==> cv2\n",
    "#!pip install nibabel\n",
    "#!pip install --upgrade tensorflow\n",
    "#!pip install tensorflow-gpu\n",
    "#!pip install tensorflow\n",
    "#!pip uninstall tensorflow -y\n",
    "#!pip install tqdm"
   ]
  },
  {
   "cell_type": "code",
   "execution_count": 8,
   "id": "4c350fd8",
   "metadata": {},
   "outputs": [
    {
     "name": "stdout",
     "output_type": "stream",
     "text": [
      "WARNING:tensorflow:From /home/falcetta/venv01/lib/python3.8/site-packages/tensorflow/python/compat/v2_compat.py:107: disable_resource_variables (from tensorflow.python.ops.variable_scope) is deprecated and will be removed in a future version.\n",
      "Instructions for updating:\n",
      "non-resource variables are not supported in the long term\n"
     ]
    }
   ],
   "source": [
    "from PIL import Image\n",
    "import numpy as np\n",
    "import matplotlib.pyplot as plt\n",
    "import tensorflow.compat.v1 as tf ###\n",
    "tf.disable_v2_behavior()\n",
    "import os, json, random\n",
    "import nibabel as nib # Library to open medical images\n",
    "from medpy.io import load # Medical Validation metrics\n",
    "import cv2"
   ]
  },
  {
   "cell_type": "code",
   "execution_count": 9,
   "id": "1812cb1b",
   "metadata": {
    "scrolled": false
   },
   "outputs": [
    {
     "data": {
      "text/plain": [
       "['OAS30002_MR_d2345',\n",
       " 'OAS30005_MR_d1274',\n",
       " 'OAS30009_MR_d2457',\n",
       " 'OAS30003_MR_d2669',\n",
       " 'OAS30014_MR_d1176',\n",
       " 'OAS30015_MR_d0788',\n",
       " 'OAS30009_MR_d0148',\n",
       " 'OAS30009_MR_d1210',\n",
       " 'OAS30005_MR_d2377',\n",
       " 'OAS30006_MR_d2341',\n",
       " 'OAS30001_MR_d0757',\n",
       " 'OAS30011_MR_d0055',\n",
       " 'OAS30006_MR_d0373',\n",
       " 'OAS30004_MR_d1101',\n",
       " 'OAS30007_MR_d1641',\n",
       " 'OAS30005_MR_d0581',\n",
       " 'OAS30004_MR_d2229',\n",
       " 'OAS30008_MR_d0061',\n",
       " 'OAS30003_MR_d1631',\n",
       " 'OAS30007_MR_d0061']"
      ]
     },
     "execution_count": 9,
     "metadata": {},
     "output_type": "execute_result"
    }
   ],
   "source": [
    "# Extract the list of all the SWI\n",
    "list_SWI = [swi for swi in os.listdir(\"data/SWI\")]\n",
    "list_SWI"
   ]
  },
  {
   "cell_type": "code",
   "execution_count": 10,
   "id": "ccee864f",
   "metadata": {},
   "outputs": [],
   "source": [
    "# Path where all the images are contained\n",
    "#/data: Contain SWI and TOF folders\n",
    "#/data/SWI: Contains all the SWI images ==> 1 Folder for each patient/image\n",
    "#/data/TOF: Contains all the TOF images ==> 1 Folder for each patient/image\n",
    "\n",
    "images_path = os.path.join(home_path,\"data\") "
   ]
  },
  {
   "cell_type": "code",
   "execution_count": 11,
   "id": "15a6b58a",
   "metadata": {},
   "outputs": [],
   "source": [
    "#Search_nii: Function that iterate over all the folder inside \"images_path\" and search for all the \".nii.gz\" files\n",
    "            #Parameters ==> \n",
    "                #\"path\": Path over which iterate\n",
    "                #Function to apply to each file\n",
    "\n",
    "#Extract Spacing: Create a list with all the spacings for each image\n",
    "\n",
    "#FIRST LOOP IS TO EXTRACT SPACINGS\n",
    "class extract_spacings:\n",
    "    def __init__(self):\n",
    "        self.spacings = []\n",
    "        self.flag = [0,0]\n",
    "        \n",
    "    def __call__(self, img_path_data_mask):\n",
    "        img_path = img_path_data_mask[0] #Just take data\n",
    "        try:\n",
    "            img = nib.load(img_path)\n",
    "            img.get_fdata()\n",
    "        except Exception:\n",
    "            print(\"impossible to open \", img_path)\n",
    "            return\n",
    "        if len(img.get_fdata().shape) != 3:\n",
    "            return\n",
    "        pixdim = img.header[\"pixdim\"][[3,1,2]]\n",
    "        print(pixdim)\n",
    "        print(\"\\n\")\n",
    "        self.spacings += [pixdim]\n",
    "extract_spacings = extract_spacings()\n",
    "\n",
    "def search_nii(path, extraction):\n",
    "    if os.path.isfile(path):\n",
    "        if path.endswith(\".nii.gz\"):\n",
    "            #Extract filename, patient name and modality from path\n",
    "            filename = path.split(\"/\")[-1]\n",
    "            patient = path.split(\"/\")[-3]\n",
    "            modality = path.split(\"/\")[-4]\n",
    "            \n",
    "            if filename.startswith(\"sub\"): #DATA X ==> Brain image\n",
    "                \n",
    "                # Patient OAS30003_MR_d2682 had five different /anat folders \n",
    "                # Take just the one that contains both the brain image and the mask \n",
    "                # In this case \"anat5\" \n",
    "                if not (patient == \"OAS30003_MR_d2682\" and path.split(\"/\")[-2] !=\"anat5\"):\n",
    "                    if modality == \"TOF\" and modality in filename:\n",
    "                        #Save data inside the first element of this list\n",
    "                        extraction.flag[0] = path\n",
    "                    if modality == \"SWI\":\n",
    "                        #Save data inside the first element of this list\n",
    "                        extraction.flag[0] = path\n",
    "            if filename.startswith(\"mask\"): #MASK y ==> you can use either \"vessel_filtered\" or \"mask\"\n",
    "                #Save data inside the second element of this list\n",
    "                extraction.flag[1] = path \n",
    "                \n",
    "            # Call the extraction function for TOF if you have saved both the data X and the mask y\n",
    "            if extraction.flag[0] != 0 and extraction.flag[1] !=0: #TOF\n",
    "                print(\"Extraction\\n\", os.path.relpath(extraction.flag[0],home_path),\"\\n\", os.path.relpath(extraction.flag[1],home_path))\n",
    "                extraction(extraction.flag)\n",
    "                extraction.flag = [0,0]\n",
    "                \n",
    "            # Call the extraction function for SWI if you have saved just the data X (You do not have any mask for SWI)\n",
    "            if modality == \"SWI\" and extraction.flag[0] != 0: #SWI\n",
    "                #print(\"Extraction\\n\", os.path.relpath(extraction.flag[0],home_path),\"\\n\", os.path.relpath(extraction.flag[1],home_path))\n",
    "                print(\"Extraction\\n\", os.path.relpath(extraction.flag[0],home_path),\"\\n\", extraction.flag[1])\n",
    "                extraction(extraction.flag)\n",
    "                extraction.flag = [0,0]\n",
    "                \n",
    "                \n",
    "    else:\n",
    "        for subpath in os.listdir(path):\n",
    "            subpath = os.path.join(path, subpath)\n",
    "            search_nii(subpath, extraction)\n",
    "\n"
   ]
  },
  {
   "cell_type": "code",
   "execution_count": 12,
   "id": "0b280230",
   "metadata": {},
   "outputs": [
    {
     "name": "stdout",
     "output_type": "stream",
     "text": [
      "Extraction\n",
      " data/TOF/OAS30003_MR_d3320/anat1/sub-OAS30003_ses-d3320_acq-TOF_angio.nii.gz \n",
      " data/TOF/OAS30003_MR_d3320/anat1/mask.nii.gz\n",
      "[0.5999967  0.29947916 0.29947916]\n",
      "\n",
      "\n",
      "Extraction\n",
      " data/TOF/OAS30008_MR_d1327/anat1/sub-OAS30008_ses-d1327_acq-TOF_angio.nii.gz \n",
      " data/TOF/OAS30008_MR_d1327/anat1/mask.nii.gz\n",
      "[0.5999985  0.29947916 0.29947916]\n",
      "\n",
      "\n",
      "Extraction\n",
      " data/TOF/OAS30009_MR_d2457/anat1/sub-OAS30009_ses-d2457_acq-TOF_angio.nii.gz \n",
      " data/TOF/OAS30009_MR_d2457/anat1/mask.nii.gz\n",
      "[0.5999985  0.29947916 0.29947916]\n",
      "\n",
      "\n",
      "Extraction\n",
      " data/TOF/OAS30001_MR_d2430/anat1/sub-OAS30001_ses-d2430_acq-TOF_angio.nii.gz \n",
      " data/TOF/OAS30001_MR_d2430/anat1/mask.nii.gz\n",
      "[0.5999985  0.29947916 0.29947916]\n",
      "\n",
      "\n",
      "Extraction\n",
      " data/TOF/OAS30013_MR_d0102/anat1/sub-OAS30013_ses-d0102_acq-TOF_angio.nii.gz \n",
      " data/TOF/OAS30013_MR_d0102/anat1/mask.nii.gz\n",
      "[0.4999975  0.26041666 0.26041666]\n",
      "\n",
      "\n",
      "Extraction\n",
      " data/TOF/OAS30025_MR_d2298/anat1/sub-OAS30025_ses-d2298_acq-TOF_angio.nii.gz \n",
      " data/TOF/OAS30025_MR_d2298/anat1/mask.nii.gz\n",
      "[0.5999985  0.29947916 0.29947916]\n",
      "\n",
      "\n",
      "Extraction\n",
      " data/TOF/OAS30003_MR_d2682/anat5/sub-OAS30003_ses-d2682_acq-TOF_run-01_angio.nii.gz \n",
      " data/TOF/OAS30003_MR_d2682/anat5/mask.nii.gz\n",
      "[0.5999985  0.29947916 0.29947916]\n",
      "\n",
      "\n",
      "Extraction\n",
      " data/TOF/OAS30007_MR_d1636/anat1/sub-OAS30007_ses-d1636_acq-TOF_angio.nii.gz \n",
      " data/TOF/OAS30007_MR_d1636/anat1/mask.nii.gz\n",
      "[0.5999985  0.29947916 0.29947916]\n",
      "\n",
      "\n",
      "Extraction\n",
      " data/TOF/OAS30006_MR_d2342/anat1/sub-OAS30006_ses-d2342_acq-TOF_angio.nii.gz \n",
      " data/TOF/OAS30006_MR_d2342/anat1/mask.nii.gz\n",
      "[0.5999985  0.29947916 0.29947916]\n",
      "\n",
      "\n",
      "Extraction\n",
      " data/TOF/OAS30007_MR_d2722/anat1/sub-OAS30007_ses-d2722_acq-TOF_angio.nii.gz \n",
      " data/TOF/OAS30007_MR_d2722/anat1/mask.nii.gz\n",
      "[0.5999985  0.29947916 0.29947916]\n",
      "\n",
      "\n",
      "Extraction\n",
      " data/TOF/OAS30002_MR_d2340/anat1/sub-OAS30002_ses-d2340_acq-TOF_angio.nii.gz \n",
      " data/TOF/OAS30002_MR_d2340/anat1/mask.nii.gz\n",
      "[0.6000004  0.29947916 0.29947916]\n",
      "\n",
      "\n",
      "Extraction\n",
      " data/TOF/OAS30003_MR_d3731/anat1/sub-OAS30003_ses-d3731_acq-TOF_angio.nii.gz \n",
      " data/TOF/OAS30003_MR_d3731/anat1/mask.nii.gz\n",
      "[0.5999985  0.29947916 0.29947916]\n",
      "\n",
      "\n",
      "Extraction\n",
      " data/TOF/OAS30005_MR_d3453/anat1/sub-OAS30005_ses-d3453_acq-TOF_angio.nii.gz \n",
      " data/TOF/OAS30005_MR_d3453/anat1/mask.nii.gz\n",
      "[0.5999985  0.29947916 0.29947916]\n",
      "\n",
      "\n",
      "Extraction\n",
      " data/TOF/OAS30010_MR_d0068/anat1/sub-OAS30010_ses-d0068_acq-TOF_angio.nii.gz \n",
      " data/TOF/OAS30010_MR_d0068/anat1/mask.nii.gz\n",
      "[0.5999985  0.29947916 0.29947916]\n",
      "\n",
      "\n",
      "Extraction\n",
      " data/TOF/OAS30007_MR_d1981/anat1/sub-OAS30007_ses-d1981_acq-TOF_angio.nii.gz \n",
      " data/TOF/OAS30007_MR_d1981/anat1/mask.nii.gz\n",
      "[0.6000023  0.29947916 0.29947916]\n",
      "\n",
      "\n",
      "Extraction\n",
      " data/TOF/OAS30008_MR_d1313/anat1/sub-OAS30008_ses-d1313_acq-TOF_angio.nii.gz \n",
      " data/TOF/OAS30008_MR_d1313/anat1/mask.nii.gz\n",
      "[0.5999985  0.29947916 0.29947916]\n",
      "\n",
      "\n",
      "Extraction\n",
      " data/TOF/OAS30005_MR_d2384/anat1/sub-OAS30005_ses-d2384_acq-TOF_angio.nii.gz \n",
      " data/TOF/OAS30005_MR_d2384/anat1/mask.nii.gz\n",
      "[0.5999985  0.29947916 0.29947916]\n",
      "\n",
      "\n",
      "Extraction\n",
      " data/TOF/OAS30004_MR_d3457/anat1/sub-OAS30004_ses-d3457_acq-TOF_angio.nii.gz \n",
      " data/TOF/OAS30004_MR_d3457/anat1/mask.nii.gz\n",
      "[0.5999985  0.29947916 0.29947916]\n",
      "\n",
      "\n",
      "Extraction\n",
      " data/SWI/OAS30002_MR_d2345/swi4/sub-OAS30002_ses-d2345_swi.nii.gz \n",
      " 0\n",
      "[1.999997  0.8984375 0.8984375]\n",
      "\n",
      "\n",
      "Extraction\n",
      " data/SWI/OAS30005_MR_d1274/swi4/sub-OAS30005_ses-d1274_swi.nii.gz \n",
      " 0\n",
      "[2.000005  0.8984375 0.8984375]\n",
      "\n",
      "\n",
      "Extraction\n",
      " data/SWI/OAS30009_MR_d2457/swi4/sub-OAS30009_ses-d2457_swi.nii.gz \n",
      " 0\n",
      "[2.0000014 0.8984375 0.8984375]\n",
      "\n",
      "\n",
      "Extraction\n",
      " data/SWI/OAS30003_MR_d2669/swi4/sub-OAS30003_ses-d2669_swi.nii.gz \n",
      " 0\n",
      "[2.0000007 0.8984375 0.8984375]\n",
      "\n",
      "\n",
      "Extraction\n",
      " data/SWI/OAS30014_MR_d1176/swi2/sub-OAS30014_ses-d1176_swi.nii.gz \n",
      " 0\n",
      "[1.9999948 0.8984375 0.8984375]\n",
      "\n",
      "\n",
      "Extraction\n",
      " data/SWI/OAS30015_MR_d0788/swi2/sub-OAS30015_ses-d0788_swi.nii.gz \n",
      " 0\n",
      "[1.9999967 0.8984375 0.8984375]\n",
      "\n",
      "\n",
      "Extraction\n",
      " data/SWI/OAS30009_MR_d0148/swi2/sub-OAS30009_ses-d0148_swi.nii.gz \n",
      " 0\n",
      "[1.999998  0.8984375 0.8984375]\n",
      "\n",
      "\n",
      "Extraction\n",
      " data/SWI/OAS30009_MR_d1210/swi4/sub-OAS30009_ses-d1210_swi.nii.gz \n",
      " 0\n",
      "[2.000001  0.8984375 0.8984375]\n",
      "\n",
      "\n",
      "Extraction\n",
      " data/SWI/OAS30005_MR_d2377/swi4/sub-OAS30005_ses-d2377_swi.nii.gz \n",
      " 0\n",
      "[2.0000005 0.8984375 0.8984375]\n",
      "\n",
      "\n",
      "Extraction\n",
      " data/SWI/OAS30006_MR_d2341/swi4/sub-OAS30006_ses-d2341_swi.nii.gz \n",
      " 0\n",
      "[1.999997  0.8984375 0.8984375]\n",
      "\n",
      "\n",
      "Extraction\n",
      " data/SWI/OAS30001_MR_d0757/swi2/sub-OAS30001_ses-d0757_swi.nii.gz \n",
      " 0\n",
      "[1.9999973 0.8984375 0.8984375]\n",
      "\n",
      "\n",
      "Extraction\n",
      " data/SWI/OAS30011_MR_d0055/swi4/sub-OAS30011_ses-d0055_swi.nii.gz \n",
      " 0\n",
      "[2.000003  0.8984375 0.8984375]\n",
      "\n",
      "\n",
      "Extraction\n",
      " data/SWI/OAS30006_MR_d0373/swi2/sub-OAS30006_ses-d0373_swi.nii.gz \n",
      " 0\n",
      "[1.9999961 0.8984375 0.8984375]\n",
      "\n",
      "\n",
      "Extraction\n",
      " data/SWI/OAS30004_MR_d1101/swi2/sub-OAS30004_ses-d1101_swi.nii.gz \n",
      " 0\n",
      "[2.0000057 0.8984375 0.8984375]\n",
      "\n",
      "\n",
      "Extraction\n",
      " data/SWI/OAS30007_MR_d1641/swi4/sub-OAS30007_ses-d1641_swi.nii.gz \n",
      " 0\n",
      "[2.0000033 0.8984375 0.8984375]\n",
      "\n",
      "\n",
      "Extraction\n",
      " data/SWI/OAS30005_MR_d0581/swi2/sub-OAS30005_ses-d0581_swi.nii.gz \n",
      " 0\n",
      "[2.0000067 0.8984375 0.8984375]\n",
      "\n",
      "\n",
      "Extraction\n",
      " data/SWI/OAS30004_MR_d2229/swi4/sub-OAS30004_ses-d2229_swi.nii.gz \n",
      " 0\n",
      "[1.9999994 0.8984375 0.8984375]\n",
      "\n",
      "\n",
      "Extraction\n",
      " data/SWI/OAS30008_MR_d0061/swi2/sub-OAS30008_ses-d0061_swi.nii.gz \n",
      " 0\n",
      "[2.0000038 0.8984375 0.8984375]\n",
      "\n",
      "\n",
      "Extraction\n",
      " data/SWI/OAS30003_MR_d1631/swi4/sub-OAS30003_ses-d1631_swi.nii.gz \n",
      " 0\n",
      "[2.0000045 0.8984375 0.8984375]\n",
      "\n",
      "\n",
      "Extraction\n",
      " data/SWI/OAS30007_MR_d0061/swi2/sub-OAS30007_ses-d0061_swi.nii.gz \n",
      " 0\n",
      "[2.        0.8984375 0.8984375]\n",
      "\n",
      "\n",
      "DONE\n"
     ]
    }
   ],
   "source": [
    "#EXTRACT SPACINGS for each Images\n",
    "search_nii(images_path, extract_spacings)\n",
    "print(\"DONE\")"
   ]
  },
  {
   "cell_type": "code",
   "execution_count": 13,
   "id": "3295b582",
   "metadata": {},
   "outputs": [
    {
     "name": "stdout",
     "output_type": "stream",
     "text": [
      "Number of total patient ==> 38\n",
      "\n",
      "Spacing SWI ==>[1.99999541 0.8984375  0.8984375 ]\n",
      "Spacing TOF ==>[0.59999847 0.29947916 0.29947916]\n",
      "\n",
      "Chosen Spacing: [1.99999541 0.8984375  0.8984375 ]\n"
     ]
    }
   ],
   "source": [
    "#Spacing SWI ==>[1.99999541 0.8984375  0.8984375 ]\n",
    "#Spacing TOF ==>[0.59999847 0.29947916 0.29947916]\n",
    "\n",
    "print(f\"Number of total patient ==> {len(extract_spacings.spacings)}\\n\")\n",
    "# Change the percentile value to find the needed spacings \n",
    "SPACING_SWI = np.percentile(np.array(extract_spacings.spacings), 50, 0)\n",
    "SPACING_TOF = np.percentile(np.array(extract_spacings.spacings), 40, 0)\n",
    "print(f\"Spacing SWI ==>{SPACING_SWI}\\nSpacing TOF ==>{SPACING_TOF}\")\n",
    "\n",
    "SPACING = SPACING_SWI # Use the SWI spacing to resize all the images\n",
    "print(f\"\\nChosen Spacing: {SPACING}\")\n"
   ]
  },
  {
   "cell_type": "code",
   "execution_count": 14,
   "id": "e775acd8",
   "metadata": {},
   "outputs": [],
   "source": [
    "# SPACING = [1.99999541, 0.8984375,  0.8984375 ] #SWI"
   ]
  },
  {
   "cell_type": "code",
   "execution_count": 15,
   "id": "6575f240",
   "metadata": {},
   "outputs": [
    {
     "name": "stdout",
     "output_type": "stream",
     "text": [
      "rm: cannot remove 'new_tfrecords': No such file or directory\r\n"
     ]
    }
   ],
   "source": [
    "# REMOVE ALL THE FOLDER FROM PREVIOUS RUNS\n",
    "!rm -r numpy\n",
    "!rm -r preprocessed\n",
    "!rm -r new_tfrecords"
   ]
  },
  {
   "cell_type": "code",
   "execution_count": 16,
   "id": "c829b8cd",
   "metadata": {
    "scrolled": true
   },
   "outputs": [
    {
     "name": "stdout",
     "output_type": "stream",
     "text": [
      "CURRENT SPACING ==> [1.99999541 0.8984375  0.8984375 ]\n",
      "\n",
      "\n",
      "Extraction\n",
      " data/TOF/OAS30003_MR_d3320/anat1/sub-OAS30003_ses-d3320_acq-TOF_angio.nii.gz \n",
      " data/TOF/OAS30003_MR_d3320/anat1/mask.nii.gz\n",
      "data dtype ==> float64\n",
      "mask dtype ==> float64\n",
      "Rescale Volume: (136, 576, 768) ==> (136, 192, 256)\n",
      "\n",
      "Extraction\n",
      " data/TOF/OAS30008_MR_d1327/anat1/sub-OAS30008_ses-d1327_acq-TOF_angio.nii.gz \n",
      " data/TOF/OAS30008_MR_d1327/anat1/mask.nii.gz\n",
      "data dtype ==> float64\n",
      "mask dtype ==> float64\n",
      "Rescale Volume: (232, 576, 768) ==> (232, 192, 256)\n",
      "\n",
      "Extraction\n",
      " data/TOF/OAS30009_MR_d2457/anat1/sub-OAS30009_ses-d2457_acq-TOF_angio.nii.gz \n",
      " data/TOF/OAS30009_MR_d2457/anat1/mask.nii.gz\n",
      "data dtype ==> float64\n",
      "mask dtype ==> float64\n",
      "Rescale Volume: (232, 576, 768) ==> (232, 192, 256)\n",
      "\n",
      "Extraction\n",
      " data/TOF/OAS30001_MR_d2430/anat1/sub-OAS30001_ses-d2430_acq-TOF_angio.nii.gz \n",
      " data/TOF/OAS30001_MR_d2430/anat1/mask.nii.gz\n",
      "data dtype ==> float64\n",
      "mask dtype ==> float64\n",
      "Rescale Volume: (232, 576, 768) ==> (232, 192, 256)\n",
      "\n",
      "Extraction\n",
      " data/TOF/OAS30013_MR_d0102/anat1/sub-OAS30013_ses-d0102_acq-TOF_angio.nii.gz \n",
      " data/TOF/OAS30013_MR_d0102/anat1/mask.nii.gz\n",
      "data dtype ==> float64\n",
      "mask dtype ==> float64\n",
      "Rescale Volume: (136, 696, 768) ==> (136, 202, 223)\n",
      "\n",
      "Extraction\n",
      " data/TOF/OAS30025_MR_d2298/anat1/sub-OAS30025_ses-d2298_acq-TOF_angio.nii.gz \n",
      " data/TOF/OAS30025_MR_d2298/anat1/mask.nii.gz\n",
      "data dtype ==> float64\n",
      "mask dtype ==> float64\n",
      "Rescale Volume: (232, 576, 768) ==> (232, 192, 256)\n",
      "\n",
      "Extraction\n",
      " data/TOF/OAS30003_MR_d2682/anat5/sub-OAS30003_ses-d2682_acq-TOF_run-01_angio.nii.gz \n",
      " data/TOF/OAS30003_MR_d2682/anat5/mask.nii.gz\n",
      "data dtype ==> float64\n",
      "mask dtype ==> float64\n",
      "Rescale Volume: (232, 576, 768) ==> (232, 192, 256)\n",
      "\n",
      "Extraction\n",
      " data/TOF/OAS30007_MR_d1636/anat1/sub-OAS30007_ses-d1636_acq-TOF_angio.nii.gz \n",
      " data/TOF/OAS30007_MR_d1636/anat1/mask.nii.gz\n",
      "data dtype ==> float64\n",
      "mask dtype ==> float64\n",
      "Rescale Volume: (232, 576, 768) ==> (232, 192, 256)\n",
      "\n",
      "Extraction\n",
      " data/TOF/OAS30006_MR_d2342/anat1/sub-OAS30006_ses-d2342_acq-TOF_angio.nii.gz \n",
      " data/TOF/OAS30006_MR_d2342/anat1/mask.nii.gz\n",
      "data dtype ==> float64\n",
      "mask dtype ==> float64\n",
      "Rescale Volume: (232, 576, 768) ==> (232, 192, 256)\n",
      "\n",
      "Extraction\n",
      " data/TOF/OAS30007_MR_d2722/anat1/sub-OAS30007_ses-d2722_acq-TOF_angio.nii.gz \n",
      " data/TOF/OAS30007_MR_d2722/anat1/mask.nii.gz\n",
      "data dtype ==> float64\n",
      "mask dtype ==> float64\n",
      "Rescale Volume: (232, 576, 768) ==> (232, 192, 256)\n",
      "\n",
      "Extraction\n",
      " data/TOF/OAS30002_MR_d2340/anat1/sub-OAS30002_ses-d2340_acq-TOF_angio.nii.gz \n",
      " data/TOF/OAS30002_MR_d2340/anat1/mask.nii.gz\n",
      "data dtype ==> float64\n",
      "mask dtype ==> float64\n",
      "Rescale Volume: (232, 576, 768) ==> (232, 192, 256)\n",
      "\n",
      "Extraction\n",
      " data/TOF/OAS30003_MR_d3731/anat1/sub-OAS30003_ses-d3731_acq-TOF_angio.nii.gz \n",
      " data/TOF/OAS30003_MR_d3731/anat1/mask.nii.gz\n",
      "data dtype ==> float64\n",
      "mask dtype ==> float64\n",
      "Rescale Volume: (232, 576, 768) ==> (232, 192, 256)\n",
      "\n",
      "Extraction\n",
      " data/TOF/OAS30005_MR_d3453/anat1/sub-OAS30005_ses-d3453_acq-TOF_angio.nii.gz \n",
      " data/TOF/OAS30005_MR_d3453/anat1/mask.nii.gz\n",
      "data dtype ==> float64\n",
      "mask dtype ==> float64\n",
      "Rescale Volume: (232, 576, 768) ==> (232, 192, 256)\n",
      "\n",
      "Extraction\n",
      " data/TOF/OAS30010_MR_d0068/anat1/sub-OAS30010_ses-d0068_acq-TOF_angio.nii.gz \n",
      " data/TOF/OAS30010_MR_d0068/anat1/mask.nii.gz\n",
      "data dtype ==> float64\n",
      "mask dtype ==> float64\n",
      "Rescale Volume: (232, 576, 768) ==> (232, 192, 256)\n",
      "\n",
      "Extraction\n",
      " data/TOF/OAS30007_MR_d1981/anat1/sub-OAS30007_ses-d1981_acq-TOF_angio.nii.gz \n",
      " data/TOF/OAS30007_MR_d1981/anat1/mask.nii.gz\n",
      "data dtype ==> float64\n",
      "mask dtype ==> float64\n",
      "Rescale Volume: (136, 576, 768) ==> (136, 192, 256)\n",
      "\n",
      "Extraction\n",
      " data/TOF/OAS30008_MR_d1313/anat1/sub-OAS30008_ses-d1313_acq-TOF_angio.nii.gz \n",
      " data/TOF/OAS30008_MR_d1313/anat1/mask.nii.gz\n",
      "data dtype ==> float64\n",
      "mask dtype ==> float64\n",
      "Rescale Volume: (232, 576, 768) ==> (232, 192, 256)\n",
      "\n",
      "Extraction\n",
      " data/TOF/OAS30005_MR_d2384/anat1/sub-OAS30005_ses-d2384_acq-TOF_angio.nii.gz \n",
      " data/TOF/OAS30005_MR_d2384/anat1/mask.nii.gz\n",
      "data dtype ==> float64\n",
      "mask dtype ==> float64\n",
      "Rescale Volume: (232, 576, 768) ==> (232, 192, 256)\n",
      "\n",
      "Extraction\n",
      " data/TOF/OAS30004_MR_d3457/anat1/sub-OAS30004_ses-d3457_acq-TOF_angio.nii.gz \n",
      " data/TOF/OAS30004_MR_d3457/anat1/mask.nii.gz\n",
      "data dtype ==> float64\n",
      "mask dtype ==> float64\n",
      "Rescale Volume: (232, 576, 768) ==> (232, 192, 256)\n",
      "\n",
      "Extraction\n",
      " data/SWI/OAS30002_MR_d2345/swi4/sub-OAS30002_ses-d2345_swi.nii.gz \n",
      " 0\n",
      "data dtype ==> float64\n",
      "mask dtype ==> float64\n",
      "Rescale Volume: (80, 192, 256) ==> (80, 192, 256)\n",
      "\n",
      "Extraction\n",
      " data/SWI/OAS30005_MR_d1274/swi4/sub-OAS30005_ses-d1274_swi.nii.gz \n",
      " 0\n",
      "data dtype ==> float64\n",
      "mask dtype ==> float64\n",
      "Rescale Volume: (80, 192, 256) ==> (80, 192, 256)\n",
      "\n",
      "Extraction\n",
      " data/SWI/OAS30009_MR_d2457/swi4/sub-OAS30009_ses-d2457_swi.nii.gz \n",
      " 0\n",
      "data dtype ==> float64\n",
      "mask dtype ==> float64\n",
      "Rescale Volume: (80, 192, 256) ==> (80, 192, 256)\n",
      "\n",
      "Extraction\n",
      " data/SWI/OAS30003_MR_d2669/swi4/sub-OAS30003_ses-d2669_swi.nii.gz \n",
      " 0\n",
      "data dtype ==> float64\n",
      "mask dtype ==> float64\n",
      "Rescale Volume: (80, 192, 256) ==> (80, 192, 256)\n",
      "\n",
      "Extraction\n",
      " data/SWI/OAS30014_MR_d1176/swi2/sub-OAS30014_ses-d1176_swi.nii.gz \n",
      " 0\n",
      "data dtype ==> float64\n",
      "mask dtype ==> float64\n",
      "Rescale Volume: (80, 192, 256) ==> (80, 192, 256)\n",
      "\n",
      "Extraction\n",
      " data/SWI/OAS30015_MR_d0788/swi2/sub-OAS30015_ses-d0788_swi.nii.gz \n",
      " 0\n",
      "data dtype ==> float64\n",
      "mask dtype ==> float64\n",
      "Rescale Volume: (80, 192, 256) ==> (80, 192, 256)\n",
      "\n",
      "Extraction\n",
      " data/SWI/OAS30009_MR_d0148/swi2/sub-OAS30009_ses-d0148_swi.nii.gz \n",
      " 0\n",
      "data dtype ==> float64\n",
      "mask dtype ==> float64\n",
      "Rescale Volume: (80, 192, 256) ==> (80, 192, 256)\n",
      "\n",
      "Extraction\n",
      " data/SWI/OAS30009_MR_d1210/swi4/sub-OAS30009_ses-d1210_swi.nii.gz \n",
      " 0\n",
      "data dtype ==> float64\n",
      "mask dtype ==> float64\n",
      "Rescale Volume: (80, 192, 256) ==> (80, 192, 256)\n",
      "\n",
      "Extraction\n",
      " data/SWI/OAS30005_MR_d2377/swi4/sub-OAS30005_ses-d2377_swi.nii.gz \n",
      " 0\n",
      "data dtype ==> float64\n",
      "mask dtype ==> float64\n",
      "Rescale Volume: (80, 192, 256) ==> (80, 192, 256)\n",
      "\n",
      "Extraction\n",
      " data/SWI/OAS30006_MR_d2341/swi4/sub-OAS30006_ses-d2341_swi.nii.gz \n",
      " 0\n",
      "data dtype ==> float64\n",
      "mask dtype ==> float64\n",
      "Rescale Volume: (80, 192, 256) ==> (80, 192, 256)\n",
      "\n",
      "Extraction\n",
      " data/SWI/OAS30001_MR_d0757/swi2/sub-OAS30001_ses-d0757_swi.nii.gz \n",
      " 0\n",
      "data dtype ==> float64\n",
      "mask dtype ==> float64\n",
      "Rescale Volume: (80, 192, 256) ==> (80, 192, 256)\n",
      "\n",
      "Extraction\n",
      " data/SWI/OAS30011_MR_d0055/swi4/sub-OAS30011_ses-d0055_swi.nii.gz \n",
      " 0\n",
      "data dtype ==> float64\n",
      "mask dtype ==> float64\n",
      "Rescale Volume: (72, 192, 256) ==> (72, 192, 256)\n",
      "\n",
      "Extraction\n",
      " data/SWI/OAS30006_MR_d0373/swi2/sub-OAS30006_ses-d0373_swi.nii.gz \n",
      " 0\n",
      "data dtype ==> float64\n",
      "mask dtype ==> float64\n",
      "Rescale Volume: (80, 192, 256) ==> (80, 192, 256)\n",
      "\n",
      "Extraction\n",
      " data/SWI/OAS30004_MR_d1101/swi2/sub-OAS30004_ses-d1101_swi.nii.gz \n",
      " 0\n",
      "data dtype ==> float64\n",
      "mask dtype ==> float64\n",
      "Rescale Volume: (80, 192, 256) ==> (80, 192, 256)\n",
      "\n",
      "Extraction\n",
      " data/SWI/OAS30007_MR_d1641/swi4/sub-OAS30007_ses-d1641_swi.nii.gz \n",
      " 0\n",
      "data dtype ==> float64\n",
      "mask dtype ==> float64\n",
      "Rescale Volume: (80, 192, 256) ==> (80, 192, 256)\n",
      "\n",
      "Extraction\n",
      " data/SWI/OAS30005_MR_d0581/swi2/sub-OAS30005_ses-d0581_swi.nii.gz \n",
      " 0\n",
      "data dtype ==> float64\n",
      "mask dtype ==> float64\n",
      "Rescale Volume: (80, 192, 256) ==> (80, 192, 256)\n",
      "\n",
      "Extraction\n",
      " data/SWI/OAS30004_MR_d2229/swi4/sub-OAS30004_ses-d2229_swi.nii.gz \n",
      " 0\n",
      "data dtype ==> float64\n",
      "mask dtype ==> float64\n",
      "Rescale Volume: (80, 192, 256) ==> (80, 192, 256)\n",
      "\n",
      "Extraction\n",
      " data/SWI/OAS30008_MR_d0061/swi2/sub-OAS30008_ses-d0061_swi.nii.gz \n",
      " 0\n",
      "data dtype ==> float64\n",
      "mask dtype ==> float64\n",
      "Rescale Volume: (80, 192, 256) ==> (80, 192, 256)\n",
      "\n",
      "Extraction\n",
      " data/SWI/OAS30003_MR_d1631/swi4/sub-OAS30003_ses-d1631_swi.nii.gz \n",
      " 0\n",
      "data dtype ==> float64\n",
      "mask dtype ==> float64\n",
      "Rescale Volume: (80, 192, 256) ==> (80, 192, 256)\n",
      "\n",
      "Extraction\n",
      " data/SWI/OAS30007_MR_d0061/swi2/sub-OAS30007_ses-d0061_swi.nii.gz \n",
      " 0\n",
      "data dtype ==> float64\n",
      "mask dtype ==> float64\n",
      "Rescale Volume: (80, 192, 256) ==> (80, 192, 256)\n",
      "\n",
      "DONE\n"
     ]
    }
   ],
   "source": [
    "#SECOND LOOP IS TO RESIZE AND EXTRACT SLICES\n",
    "\n",
    "import os\n",
    "from skimage.transform import resize\n",
    "from batchgenerators.augmentations.utils import resize_segmentation\n",
    "\n",
    "def rescaleVolume(image, spacing_target, current_spacing, is_seg=False):\n",
    "    spacing_target[0] = current_spacing[0] # Mantain the same spacing for the z dimension\n",
    "    new_shape = np.round(current_spacing / spacing_target * image.shape).astype(int)\n",
    "    if not is_seg:\n",
    "        print(f\"data dtype ==> {image.dtype}\")\n",
    "        image = resize(image, new_shape, 3, cval=0, mode='edge', anti_aliasing=False)\n",
    "        #image.dtype ==> np.FLOAT64\n",
    "    else:\n",
    "        print(f\"mask dtype ==> {image.dtype}\")\n",
    "        image = resize_segmentation(image, new_shape, order=1)\n",
    "    return image\n",
    "\n",
    "class extract_slices:\n",
    "    def __init__(self):\n",
    "        self.flag = [0,0]\n",
    "        self.min_values = []\n",
    "        self.max_values = []\n",
    "        self.mean_values = []\n",
    "        self.std_values = []\n",
    "\n",
    "        if not os.path.isdir(\"numpy\"):\n",
    "            os.makedirs(\"numpy\")\n",
    "    \n",
    "    def __call__(self, img_path_data_mask):\n",
    "        img_path = img_path_data_mask[0] #data X\n",
    "        mask_path = img_path_data_mask[1] #mask y\n",
    "        modality = img_path_data_mask[0].split(\"/\")[-4] #TOF/SWI\n",
    "        try:\n",
    "            # Load nib images and extract numpy\n",
    "            img = nib.load(img_path)\n",
    "            img.get_fdata()\n",
    "        except Exception:\n",
    "            print(\"impossible to open \", img_path)\n",
    "            return\n",
    "        \n",
    "        try:\n",
    "            if modality == \"SWI\":\n",
    "                #Zero mask for a SWI image\n",
    "                mask = np.zeros(img.shape)\n",
    "            else:\n",
    "                #Extract numpy mask for a TOF image\n",
    "                mask = nib.load(mask_path)\n",
    "                mask = mask.get_fdata()\n",
    "        \n",
    "        except Exception:\n",
    "            print(\"impossible to open \", mask_path)\n",
    "            return\n",
    "            \n",
    "        \n",
    "        # Assert the correct dimesions for image and mask \n",
    "        if len(img.get_fdata().shape) != 3 or len(mask.shape) != 3:\n",
    "            return\n",
    "        \n",
    "        # From (x,y,z) to (z,x,y) to iterate over the z-dimension\n",
    "        pixdim = img.header[\"pixdim\"][[3,1,2]] \n",
    "        img = img.get_fdata().transpose(2, 0, 1)\n",
    "        \n",
    "        old_shape = img.shape\n",
    "        #Rescale image volume according to the chosen spacing\n",
    "        img = rescaleVolume(img, SPACING, pixdim)\n",
    "    \n",
    "        #Rescale mask volume according to the chosen spacing\n",
    "        #Segmentation mask ==> is_seg=True\n",
    "        mask = mask.transpose(2,0,1)\n",
    "        mask = rescaleVolume(mask, SPACING, pixdim, is_seg=True)\n",
    "\n",
    "        # Update dataset statistics for each images\n",
    "        self.min_values += [np.min(img)]# * len(img)\n",
    "        self.max_values += [np.max(img)]# * len(img)\n",
    "        self.mean_values += [np.mean(img)]# * len(img)\n",
    "        self.std_values += [np.std(img)]# * len(img)\n",
    "        \n",
    "        \n",
    "        out_path = os.path.split(img_path)[1].replace(\".nii.gz\", \"\")\n",
    "        print(f\"Rescale Volume: {old_shape} ==> {img.shape}\\n\")\n",
    "        \n",
    "        # Iterate over the slices for each pair (data X, mask y)\n",
    "        for iter, (slice_img, slice_mask) in enumerate(zip(img,mask)):\n",
    "            # Save a numpy dictionary for each slice\n",
    "            np.save(\"numpy/{}_slice{:02d}.npy\".format(out_path, iter),\n",
    "            {\n",
    "                \"data\": slice_img, \n",
    "                \"mask\": slice_mask, \n",
    "                \"spacing\": pixdim, \n",
    "                \"max\": self.max_values[-1], \n",
    "                \"min\": self.min_values[-1], \n",
    "                \"mean\": self.mean_values[-1], \n",
    "                \"std\": self.std_values[-1]\n",
    "            })\n",
    "extract_slices = extract_slices()\n",
    "\n",
    "\n",
    "\n",
    "print(f\"CURRENT SPACING ==> {SPACING}\\n\\n\")\n",
    "search_nii(images_path, extract_slices) #As before but extract slices for each (Data X, Mask y) pair\n",
    "print(\"DONE\")"
   ]
  },
  {
   "cell_type": "code",
   "execution_count": 17,
   "id": "7f29d41d",
   "metadata": {},
   "outputs": [],
   "source": [
    "## Some examples of rescaling from the used dataset \n",
    "\n",
    "#Using SPACING_SWI {\n",
    "#Extraction ==> OAS30013_MR_d0102\n",
    "#Rescale Volume: (z, 696, 768) ==> (z, 202, 223)\n",
    "\n",
    "#TOF\n",
    "#Rescale Volume: (z, 576, 768) ==> (z, 192, 256)\n",
    "\n",
    "#SWI\n",
    "#Rescale Volume: (z, 192, 256) ==> (z, 192, 256)\n",
    "#         }\n",
    "\n",
    "\n",
    "\n",
    "#Using SPACING_TOF {\n",
    "#Extraction ==> OAS30013_MR_d0102\n",
    "#Rescale Volume: (z, 696, 768) ==> (z, 605, 668)\n",
    "\n",
    "#TOF\n",
    "#Rescale Volume: (z, 576, 768) ==> (z, 576, 768)\n",
    "\n",
    "#SWI\n",
    "#Rescale Volume: (z, 192, 256) ==> (z, 576, 768)\n",
    "#         }  #==> MEMORY ISSUE"
   ]
  },
  {
   "cell_type": "markdown",
   "id": "122a1e12",
   "metadata": {},
   "source": [
    "### Display some slices from \"numpy\" directory"
   ]
  },
  {
   "cell_type": "code",
   "execution_count": 18,
   "id": "fd969286",
   "metadata": {},
   "outputs": [
    {
     "name": "stdout",
     "output_type": "stream",
     "text": [
      "(256, 192)\n"
     ]
    },
    {
     "data": {
      "image/png": "[encoded data removed]",
      "text/plain": [
       "<PIL.Image.Image image mode=L size=256x192 at 0x7F29820650A0>"
      ]
     },
     "execution_count": 18,
     "metadata": {},
     "output_type": "execute_result"
    }
   ],
   "source": [
    "import os\n",
    "from PIL import Image\n",
    "os.listdir(\"numpy\")\n",
    "\n",
    "img = Image.fromarray(np.load(\"numpy/sub-OAS30008_ses-d1327_acq-TOF_angio_slice18.npy\", allow_pickle=True).item()[\"data\"].astype(np.uint8))\n",
    "print(img.size)\n",
    "img"
   ]
  },
  {
   "cell_type": "code",
   "execution_count": 19,
   "id": "e79ff07e",
   "metadata": {},
   "outputs": [
    {
     "name": "stdout",
     "output_type": "stream",
     "text": [
      "(256, 192)\n"
     ]
    },
    {
     "data": {
      "image/png": "[encoded data removed]",
      "text/plain": [
       "<PIL.Image.Image image mode=L size=256x192 at 0x7F2982047820>"
      ]
     },
     "execution_count": 19,
     "metadata": {},
     "output_type": "execute_result"
    }
   ],
   "source": [
    "img = Image.fromarray(np.load(\"numpy/sub-OAS30005_ses-d0581_swi_slice65.npy\", allow_pickle=True).item()[\"data\"].astype(np.uint8))\n",
    "print(img.size)\n",
    "img"
   ]
  },
  {
   "cell_type": "code",
   "execution_count": 20,
   "id": "42aa2419",
   "metadata": {},
   "outputs": [
    {
     "name": "stdout",
     "output_type": "stream",
     "text": [
      "(223, 202)\n"
     ]
    },
    {
     "data": {
      "image/png": "[encoded data removed]",
      "text/plain": [
       "<PIL.Image.Image image mode=L size=223x202 at 0x7F2982065160>"
      ]
     },
     "execution_count": 20,
     "metadata": {},
     "output_type": "execute_result"
    }
   ],
   "source": [
    "img = Image.fromarray(np.load(\"numpy/sub-OAS30013_ses-d0102_acq-TOF_angio_slice30.npy\", allow_pickle=True).item()[\"data\"].astype(np.uint8))\n",
    "print(img.size)\n",
    "img"
   ]
  },
  {
   "cell_type": "markdown",
   "id": "0688e1a8",
   "metadata": {},
   "source": [
    "### Extract useful statistics from our dataset"
   ]
  },
  {
   "cell_type": "code",
   "execution_count": 21,
   "id": "3eb03d46",
   "metadata": {},
   "outputs": [],
   "source": [
    "MAX = np.max(extract_slices.max_values)\n",
    "MIN = np.min(extract_slices.min_values)\n",
    "MEAN = np.mean(extract_slices.mean_values)\n",
    "STD = np.sqrt(1/len(extract_slices.std_values) * np.sum(np.power(extract_slices.std_values, 2)))\n",
    "STANDARDIZE_MAX = np.max(np.subtract(extract_slices.max_values, extract_slices.mean_values) / np.add(extract_slices.std_values, 1e-8))\n",
    "STANDARDIZE_MIN = np.min(np.subtract(extract_slices.min_values, extract_slices.mean_values) / np.add(extract_slices.std_values, 1e-8))"
   ]
  },
  {
   "cell_type": "code",
   "execution_count": 22,
   "id": "e8516ed7",
   "metadata": {},
   "outputs": [
    {
     "name": "stdout",
     "output_type": "stream",
     "text": [
      "1032.0 0.0 56.03965745242126 70.0058855782567 13.203064826006445 -1.2809882331461449\n"
     ]
    }
   ],
   "source": [
    "print(MAX,MIN,MEAN,STD,STANDARDIZE_MAX,STANDARDIZE_MIN)"
   ]
  },
  {
   "cell_type": "code",
   "execution_count": 23,
   "id": "4f7acaa3",
   "metadata": {},
   "outputs": [],
   "source": [
    "# Default statistics for the used dataset\n",
    "def assign_stats():\n",
    "    MAX = 1032.0 \n",
    "    MIN = 0.0\n",
    "    MEAN = 56.03965745242126\n",
    "    STD = 70.0058855782567\n",
    "    STANDARDIZE_MAX = 13.203064826006445 \n",
    "    STANDARDIZE_MIN = -1.2809882331461449\n",
    "    return MAX,MIN,MEAN,STD,STANDARDIZE_MAX,STANDARDIZE_MIN\n",
    "\n",
    "MAX,MIN,MEAN,STD,STANDARDIZE_MAX,STANDARDIZE_MIN = assign_stats()"
   ]
  },
  {
   "cell_type": "code",
   "execution_count": 24,
   "id": "f9d9e39a",
   "metadata": {},
   "outputs": [
    {
     "name": "stdout",
     "output_type": "stream",
     "text": [
      "1032.0 0.0 56.03965745242126 70.0058855782567 13.203064826006445 -1.2809882331461449\n"
     ]
    }
   ],
   "source": [
    "print(MAX,MIN,MEAN,STD,STANDARDIZE_MAX,STANDARDIZE_MIN)"
   ]
  },
  {
   "cell_type": "code",
   "execution_count": 25,
   "id": "0bd93fa6",
   "metadata": {},
   "outputs": [],
   "source": [
    "def standardizeSlice(image, mean=None, std=None):\n",
    "    if mean is None or std is None:\n",
    "        mean = np.mean(image)\n",
    "        std = np.std(image)\n",
    "    image -= mean\n",
    "    image /= std + 1e-8\n",
    "    return image\n",
    "\n",
    "def normalizeSlice(image, max=None, min=None):\n",
    "    if max is None or min is None:\n",
    "        max = np.max(image)\n",
    "        min = np.min(image)\n",
    "    image -= min\n",
    "    image *= 2\n",
    "    image /= max - min\n",
    "    image -= 1\n",
    "    return image\n",
    "\n",
    "def padding(img, new_shape, pad_value = 0):\n",
    "    shape = tuple(list(img.shape))\n",
    "    new_shape = tuple(np.max(np.concatenate((shape, new_shape)).reshape((2, len(shape))), axis=0))\n",
    "    res = np.ones(list(new_shape), dtype=img.dtype) * pad_value\n",
    "    start = np.array(new_shape) / 2. - np.array(shape) / 2.\n",
    "    res[int(start[0]) : int(start[0]) + int(shape[0]), int(start[1]) : int(start[1]) + int(shape[1])] = img\n",
    "    return res\n",
    "    \n",
    "def center_crop(slice, center_crop):\n",
    "    if(all(np.array(slice.shape) <= center_crop)):\n",
    "        return slice\n",
    "    center = np.array(slice.shape) / 2.\n",
    "    return slice[int(center[0] - center_crop[0] / 2.) : int(center[0] + center_crop[0] / 2.), int(center[1] - center_crop[1] / 2.) : int(center[1] + center_crop[1] / 2.)]\n",
    "\n",
    "def one_hot(seg,num_classes=2):\n",
    "    # N.B. \".astype(np.float32)\" to obtain the correct datatype !!!!!\n",
    "    return np.eye(num_classes)[seg.astype(int)].astype(np.float32)\n",
    "\n",
    "def add_dim(img):\n",
    "    new_img = img[:, :, np.newaxis].astype(np.float32)\n",
    "    #print(f'Old Shape: {img.shape} ==> New Shape: {new_img.shape}')\n",
    "    return new_img\n",
    "\n",
    "def preprocessSlice(img, type=\"data\"):\n",
    "    img = padding(img, (352,352))\n",
    "    img = center_crop(img, (352,352))\n",
    "    if type == \"mask\":\n",
    "        img = one_hot(img) #(x,x)--> (x,x,num_classes) #In our case num_classes=2 \n",
    "    else:\n",
    "        img = add_dim(img) #(x,x)--> (x,x,1)\n",
    "    return img"
   ]
  },
  {
   "cell_type": "code",
   "execution_count": 26,
   "id": "799d940e",
   "metadata": {},
   "outputs": [
    {
     "name": "stdout",
     "output_type": "stream",
     "text": [
      "rm: cannot remove 'preprocessed': No such file or directory\r\n"
     ]
    }
   ],
   "source": [
    "!rm -r preprocessed"
   ]
  },
  {
   "cell_type": "markdown",
   "id": "ba682859",
   "metadata": {},
   "source": [
    "### Iterate and process each numpy slice"
   ]
  },
  {
   "cell_type": "code",
   "execution_count": 27,
   "id": "3f6b833b",
   "metadata": {},
   "outputs": [
    {
     "name": "stderr",
     "output_type": "stream",
     "text": [
      "100%|██████████████████████████████████████████████████████████████████████████████| 5480/5480 [00:24<00:00, 223.44it/s]"
     ]
    },
    {
     "name": "stdout",
     "output_type": "stream",
     "text": [
      "DONE\n"
     ]
    },
    {
     "name": "stderr",
     "output_type": "stream",
     "text": [
      "\n"
     ]
    }
   ],
   "source": [
    "if not os.path.isdir(\"preprocessed\"):\n",
    "    os.makedirs(\"preprocessed\")\n",
    "\n",
    "    \n",
    "from tqdm import tqdm\n",
    "for slice_id in tqdm(os.listdir(\"numpy\")):\n",
    "    slice_path = os.path.join(\"numpy\", slice_id)\n",
    "    # allow_pickle=True to load the entire dictionary\n",
    "    slice = np.load(slice_path, allow_pickle=True).item()\n",
    "    # mean and std of the slice VOLUME\n",
    "    slice[\"data\"] = standardizeSlice(slice[\"data\"],  slice[\"mean\"], slice[\"std\"]) \n",
    "    # standatdize MIN and MAX over all the dataset\n",
    "    slice[\"data\"] = normalizeSlice(slice[\"data\"], STANDARDIZE_MAX, STANDARDIZE_MIN) \n",
    "    \n",
    "    # Preprocess Data and Mask: Padding, Center_Crop, Add_dim/One_hot\n",
    "    slice[\"data\"] = preprocessSlice(slice[\"data\"])\n",
    "    slice[\"mask\"] = preprocessSlice(slice[\"mask\"], type=\"mask\")\n",
    "  \n",
    "    #Save a dictionary with preprocessed data and mask for each slice\n",
    "    np.save(\"preprocessed/{}\".format(slice_id), {\n",
    "        \"data\": slice[\"data\"],\n",
    "        \"mask\": slice[\"mask\"]})\n",
    "    \n",
    "    #np.save(\"preprocessed/{}\".format(slice_id), slice[\"data\"])\n",
    "    \n",
    "print(\"DONE\")"
   ]
  },
  {
   "cell_type": "code",
   "execution_count": 28,
   "id": "f57e2621",
   "metadata": {},
   "outputs": [],
   "source": [
    "def numpy2tfrecords(data_vol_val,label_vol_val,tfrecord_pth):\n",
    "    # Adapted from SIFA repo:\n",
    "    #data_vol_val: preprocessed slice\n",
    "    #label_vol_val: corresponding mask\n",
    "    \n",
    "    #print(tfrecord_pth)\n",
    "    \n",
    "    #Select the correct file (TOF or SWI) in which to append the tfrecord\n",
    "    file = \"TOF_tot.txt\" if \"TOF\" in tfrecord_pth else \"SWI_tot.txt\"\n",
    "    \n",
    "    #file_path\n",
    "    file = os.path.join(os.path.dirname(tfrecord_pth),file)\n",
    "    \n",
    "    #print(f'Complete Path: {tfrecord_pth}')\n",
    "    #print(f'Appending path to: {file}...')\n",
    "    \n",
    "    with open(file, \"a\") as file_object:\n",
    "        # Append tfrecord_path at the end of the file\n",
    "        file_object.write(f'{os.path.join(home_path,tfrecord_pth)}\\n')     \n",
    "    \n",
    "    \n",
    "    # N.B. Assert the correct shape and datatype \n",
    "    assert data_vol_val.shape == (352,352,1) and data_vol_val.dtype == np.float32\n",
    "    # label_vol_val ==> (352,352,n) where n is the number of classes\n",
    "    assert label_vol_val.shape == (352,352,2) and label_vol_val.dtype == np.float32\n",
    "    \n",
    "    dsize_dim0_val =  data_vol_val.shape[0] #352\n",
    "    dsize_dim1_val =  data_vol_val.shape[1] #352\n",
    "    dsize_dim2_val =  data_vol_val.shape[2] #1\n",
    "    lsize_dim0_val = label_vol_val.shape[0] #352\n",
    "    lsize_dim1_val = label_vol_val.shape[1] #352\n",
    "    lsize_dim2_val = label_vol_val.shape[2] #2\n",
    "    \n",
    "    if lsize_dim2_val != 2:\n",
    "        print(lsize_dim2_val) #==> All lsize_dim2_val must be 2 (number of classes)\n",
    "\n",
    "    # writer = tf.python_io.TFRecordWriter(tfrecord_pth) # ==> module 'tensorflow' has no attribute 'python_io'\n",
    "    writer = tf.io.TFRecordWriter(tfrecord_pth)\n",
    "\n",
    "    feature = {\n",
    "        'data_vol'  : tf.train.Feature(bytes_list=tf.train.BytesList(value=[tf.compat.as_bytes(data_vol_val.tostring())])),\n",
    "        'dsize_dim0': tf.train.Feature(int64_list=tf.train.Int64List(value=[dsize_dim0_val])),\n",
    "        'dsize_dim1': tf.train.Feature(int64_list=tf.train.Int64List(value=[dsize_dim1_val])),\n",
    "        'dsize_dim2': tf.train.Feature(int64_list=tf.train.Int64List(value=[dsize_dim2_val])),\n",
    "        'lsize_dim0': tf.train.Feature(int64_list=tf.train.Int64List(value=[lsize_dim0_val])),\n",
    "        'lsize_dim1': tf.train.Feature(int64_list=tf.train.Int64List(value=[lsize_dim1_val])),\n",
    "        'lsize_dim2': tf.train.Feature(int64_list=tf.train.Int64List(value=[lsize_dim2_val])),\n",
    "        'label_vol' : tf.train.Feature(bytes_list=tf.train.BytesList(value=[tf.compat.as_bytes(label_vol_val.tostring())]))\n",
    "      }\n",
    "\n",
    "    example = tf.train.Example(features=tf.train.Features(feature=feature))\n",
    "    \n",
    "    #parser = tf.parse_single_example(example.SerializeToString(), features=decomp_feature)\n",
    "    #label_vol = tf.decode_raw(parser['label_vol'], tf.float32)\n",
    "    #label_vol = tf.reshape(label_vol, [352, 352, 2])\n",
    "    #raise Exception(label_vol.shape)\n",
    "    \n",
    "    writer.write(example.SerializeToString())\n",
    "    writer.close()\n",
    "    #print(data_vol_val.shape,label_vol_val.shape)\n",
    "    return"
   ]
  },
  {
   "cell_type": "code",
   "execution_count": 29,
   "id": "30129a5e",
   "metadata": {},
   "outputs": [
    {
     "name": "stdout",
     "output_type": "stream",
     "text": [
      "rm: cannot remove 'new_tfrecords': No such file or directory\r\n"
     ]
    }
   ],
   "source": [
    "!rm -r new_tfrecords\n",
    "!rm -r mask_tfrecords"
   ]
  },
  {
   "cell_type": "code",
   "execution_count": 30,
   "id": "2295eb28",
   "metadata": {},
   "outputs": [
    {
     "name": "stderr",
     "output_type": "stream",
     "text": [
      "  0%|                                                                                          | 0/5480 [00:00<?, ?it/s]/tmp/ipykernel_1310948/2417881839.py:41: DeprecationWarning: tostring() is deprecated. Use tobytes() instead.\n",
      "  'data_vol'  : tf.train.Feature(bytes_list=tf.train.BytesList(value=[tf.compat.as_bytes(data_vol_val.tostring())])),\n",
      "/tmp/ipykernel_1310948/2417881839.py:48: DeprecationWarning: tostring() is deprecated. Use tobytes() instead.\n",
      "  'label_vol' : tf.train.Feature(bytes_list=tf.train.BytesList(value=[tf.compat.as_bytes(label_vol_val.tostring())]))\n",
      "100%|███████████████████████████████████████████████████████████████████████████████| 5480/5480 [01:29<00:00, 61.23it/s]"
     ]
    },
    {
     "name": "stdout",
     "output_type": "stream",
     "text": [
      "DONE\n"
     ]
    },
    {
     "name": "stderr",
     "output_type": "stream",
     "text": [
      "\n"
     ]
    }
   ],
   "source": [
    "#Give a name in which to save the tfrecords\n",
    "tfrecords_folder = \"mask_tfrecords\"\n",
    "\n",
    "# Create folders for the tfrecords\n",
    "if not os.path.isdir(tfrecords_folder):\n",
    "    os.makedirs(tfrecords_folder)\n",
    "if not os.path.isdir(f\"{tfrecords_folder}/TOF\"):\n",
    "    os.makedirs(f\"{tfrecords_folder}/TOF\")\n",
    "if not os.path.isdir(f\"{tfrecords_folder}/SWI\"):\n",
    "    os.makedirs(f\"{tfrecords_folder}/SWI\")\n",
    "\n",
    "#Iterate over the preprocessed slices\n",
    "for slice_id in tqdm(os.listdir(\"preprocessed\")):\n",
    "    slice_path = os.path.join(\"preprocessed\", slice_id)\n",
    "    slice = np.load(slice_path, allow_pickle=True).item()\n",
    "    \n",
    "    data_vol_val = slice[\"data\"]\n",
    "    label_vol_val = slice[\"mask\"] \n",
    "    \n",
    "    mod = \"TOF\" if \"TOF\" in slice_id else \"SWI\"\n",
    "    tfrecord_pth = os.path.join(tfrecords_folder,mod,slice_id).replace(\"npy\", \"tfrecord\")\n",
    "    \n",
    "    numpy2tfrecords(data_vol_val,label_vol_val,tfrecord_pth)\n",
    "    \n",
    "print(\"DONE\")"
   ]
  },
  {
   "cell_type": "code",
   "execution_count": 31,
   "id": "5d2eab17",
   "metadata": {},
   "outputs": [],
   "source": [
    "#SPLIT TRAINING DATA INTO TRAINING + VALIDATION (By splitting the txt file containing all the tfrecord)\n",
    "def split_file(file,out1,out2,percentage=0.80,isShuffle=True,seed=123): \n",
    "#Splits a file in 2 given the needed `percentage` of the larger shard\n",
    "    random.seed(seed) \n",
    "    with open(file, 'r',encoding=\"utf-8\") as fin, open(out1, 'w') as foutBig, open(out2, 'w') as foutSmall: \n",
    "        nLines = sum(1 for line in fin) \n",
    "        fin.seek(0) \n",
    "\n",
    "        nTrain = int(nLines*percentage)  \n",
    "        nValid = nLines - nTrain \n",
    "\n",
    "        i = 0 \n",
    "        for line in fin: \n",
    "            r = random.random() if isShuffle else 0 # so that always evaluated to true when not isShuffle \n",
    "            if (i < nTrain and r < percentage) or (nLines - i > nValid): \n",
    "                foutBig.write(line) \n",
    "                i += 1 \n",
    "            else: \n",
    "                foutSmall.write(line) "
   ]
  },
  {
   "cell_type": "code",
   "execution_count": 32,
   "id": "42b42f59",
   "metadata": {},
   "outputs": [],
   "source": [
    "#\"mask_tfrecords\" or \"new_tfrecords\"\n",
    "SWI_tot=home_path+ f\"/{tfrecords_folder}/SWI/SWI_tot.txt\"\n",
    "SWI_training=home_path+f\"/{tfrecords_folder}/SWI/trainingSWI.txt\"\n",
    "SWI_validation=home_path+f\"/{tfrecords_folder}/SWI/validationSWI.txt\"\n",
    "\n",
    "split_file(SWI_tot,SWI_training,SWI_validation)\n",
    "\n",
    "TOF_tot=home_path+f\"/{tfrecords_folder}/TOF/TOF_tot.txt\"\n",
    "TOF_training=home_path+f\"/{tfrecords_folder}/TOF/trainingTOF.txt\"\n",
    "TOF_validation=home_path+f\"/{tfrecords_folder}/TOF/validationTOF.txt\"\n",
    "\n",
    "split_file(TOF_tot,TOF_training,TOF_validation)"
   ]
  },
  {
   "cell_type": "code",
   "execution_count": 33,
   "id": "d1bfe1b5",
   "metadata": {},
   "outputs": [],
   "source": [
    "def check_num_classes():\n",
    "    #Check if some mask contains more or less the our number of classes\n",
    "    flag = 0\n",
    "    #Iterate over the preprocessed slices\n",
    "    for numpy_dict in tqdm(os.listdir(\"preprocessed\")):\n",
    "        if numpy_dict.endswith(\"npy\"):\n",
    "            dict_path = os.path.join(\"preprocessed\", numpy_dict)\n",
    "            dataset=np.load(dict_path, allow_pickle = True).item()\n",
    "            vol_mask = dataset[\"mask\"]\n",
    "            classes = np.unique(vol_mask)\n",
    "            if classes[0] != 0 or classes[1] != 1:\n",
    "                print(\"NOT JUST 0 and 1 CLASSES\")\n",
    "                print(classes)\n",
    "               \n",
    "                flag=1\n",
    "                \n",
    "          \n",
    "    if flag == 0:\n",
    "        print(\"DONE WITHOUT ANY ERROR: Just 2 classes\") # ==> TESTED\n",
    "\n",
    "#check_num_classes()\n",
    "\n",
    "# JUST 0 and 1 classes"
   ]
  },
  {
   "cell_type": "code",
   "execution_count": 34,
   "id": "e52bdd9c",
   "metadata": {},
   "outputs": [],
   "source": [
    "# Remove previous SIFA outputs to save space\n",
    "def remove_prev_output():\n",
    "    %cd {home_path}/SIFA/output\n",
    "    !rm -r *\n",
    "    print(\"OUTPUTS REMOVED\")\n",
    "    \n",
    "#remove_prev_output()\n",
    "\n",
    "# Remove other folders\n",
    "\n",
    "# %cd {home_path}/horse2zebra\n",
    "# !rm -r *\n",
    "# %cd {home_path}/numpy\n",
    "# !rm -r *\n",
    "# %cd {home_path}/preprocessed\n",
    "# !rm -r *\n",
    "# %cd {home_path}/SIFA/numpy\n",
    "# !rm -r *\n",
    "# %cd {home_path}/SIFA/preprocessed\n",
    "# !rm -r *"
   ]
  },
  {
   "cell_type": "code",
   "execution_count": 35,
   "id": "f77418d1",
   "metadata": {},
   "outputs": [
    {
     "name": "stdout",
     "output_type": "stream",
     "text": [
      "/home/falcetta/FINAL_VERSION/SIFA-Tensorflow2\n"
     ]
    }
   ],
   "source": [
    "%cd {home_path}"
   ]
  },
  {
   "cell_type": "code",
   "execution_count": 36,
   "id": "843b79b9",
   "metadata": {},
   "outputs": [],
   "source": [
    "#Change the configuration file \"config_param.json\" in the SIFA folder:\n",
    "    #Change \"new_tfrecords\" with the used \"tfrecords_folder\"\n",
    "\n",
    "    #\"source_train_pth\": \"/home/falcetta/new_tfrecords/TOF/trainingTOF.txt\",\n",
    "    #\"target_train_pth\": \"/home/falcetta/new_tfrecords/SWI/trainingSWI.txt\",\n",
    "    #\"source_val_pth\": \"/home/falcetta/new_tfrecords/TOF/validationTOF.txt\",\n",
    "    #\"target_val_pth\": \"/home/falcetta/new_tfrecords/SWI/validationSWI.txt\","
   ]
  },
  {
   "cell_type": "code",
   "execution_count": 37,
   "id": "97cdc3c9",
   "metadata": {
    "scrolled": true
   },
   "outputs": [
    {
     "data": {
      "text/plain": [
       "'\\n    save_interval = Save image outputs and models each xxx steps\\n    evaluation_interval = Evaluate loss each xxx steps\\n    save_loss_cnt = Save losses in the files each xxx iterations\\n    seg_param = Segmentation Losses ON/OFF: put 0 to set all the segmentation losses to 0\\n'"
      ]
     },
     "execution_count": 37,
     "metadata": {},
     "output_type": "execute_result"
    }
   ],
   "source": [
    "#Training\n",
    "\n",
    "#Parameter to set in the config.param.json:\n",
    "'''\n",
    "    \"source_train_pth\": File txt containing the training tfrecord for the source domain (TOF)\n",
    "    \"target_train_pth\": File txt containing the training tfrecord for the target domain (SWI)\n",
    "    \"source_val_pth\": File txt containing the validation tfrecord for the source domain (TOF)\n",
    "    \"target_val_pth\":File txt containing the validation tfrecord for the target domain (SWI)\n",
    "    \n",
    "    \"num_cls\": Number of classes, it depends on the used mask. (2 in our case: [background,brain/vessel])\n",
    "    \"max_step\": Number of step you want train   \n",
    "    \"batch_size\": default:4 (values above 8 had some problem with the Eurecom GPU)\n",
    "'''\n",
    "\n",
    "#Parameter to set in the main.py\n",
    "'''\n",
    "    save_interval = Save image outputs and models each xxx steps\n",
    "    evaluation_interval = Evaluate loss each xxx steps\n",
    "    save_loss_cnt = Save losses in the files each xxx iterations\n",
    "    seg_param = Segmentation Losses ON/OFF: put 0 to set all the segmentation losses to 0\n",
    "'''\n"
   ]
  },
  {
   "cell_type": "code",
   "execution_count": null,
   "id": "76498aa7",
   "metadata": {},
   "outputs": [],
   "source": [
    "%cd {home_path}/SIFA\n",
    "!python main.py\n",
    "print(\"END OF TRAINING\")"
   ]
  },
  {
   "cell_type": "markdown",
   "id": "a3d3d39c",
   "metadata": {},
   "source": [
    "### How to Interpret results"
   ]
  },
  {
   "cell_type": "code",
   "execution_count": 39,
   "id": "34682dac",
   "metadata": {},
   "outputs": [
    {
     "data": {
      "text/html": [
       "<img src=\"sample_result.png\"/>"
      ],
      "text/plain": [
       "<IPython.core.display.Image object>"
      ]
     },
     "execution_count": 39,
     "metadata": {},
     "output_type": "execute_result"
    }
   ],
   "source": [
    "'''\n",
    "    Results in the folder .../SIFA/ouput/{wanted_date}\n",
    "    imgs: Contains all the .jpg images that you can find in the .html files\n",
    "    nib_imgs: Same of imgs but containt the .nii.gz\n",
    "    losses: Contains the .txt files of all the loss, both individually in each file and all-toghether in tot_losses.csv\n",
    "'''\n",
    "\n",
    "'''\n",
    "    html visualization files:\n",
    "    Read 2 rows at a time:\n",
    "        1st Row ==> 6 Data images: \n",
    "                    X_s,X_t,\n",
    "                    X_s>t,X_t>s,\n",
    "                    X_s~,X_t~\n",
    "                    \n",
    "        2nd Row ==> 7 Segmentation images:\n",
    "                    'pred_mask_a','pred_mask_b','pred_mask_b_ll',\n",
    "                    'pred_mask_fake_a','pred_mask_fake_b','pred_mask_fake_b_ll',\n",
    "                    'gt' \n",
    "'''\n",
    "\n",
    "from IPython.display import Image\n",
    "Image(url=\"sample_result.png\")\n"
   ]
  },
  {
   "cell_type": "code",
   "execution_count": 40,
   "id": "b8b4214c",
   "metadata": {},
   "outputs": [
    {
     "data": {
      "text/html": [
       "<img src=\"vessel_result.png\"/>"
      ],
      "text/plain": [
       "<IPython.core.display.Image object>"
      ]
     },
     "execution_count": 40,
     "metadata": {},
     "output_type": "execute_result"
    }
   ],
   "source": [
    "from IPython.display import Image\n",
    "Image(url=\"vessel_result.png\")"
   ]
  },
  {
   "cell_type": "markdown",
   "id": "a0972d78",
   "metadata": {},
   "source": [
    "### Print losses"
   ]
  },
  {
   "cell_type": "code",
   "execution_count": 41,
   "id": "fef66c4b",
   "metadata": {},
   "outputs": [
    {
     "name": "stdout",
     "output_type": "stream",
     "text": [
      "/home/falcetta/FINAL_VERSION/SIFA-Tensorflow2/SIFA\n"
     ]
    }
   ],
   "source": [
    "%cd {home_path}/SIFA\n",
    "\n",
    "import os\n",
    "import pandas as pd\n",
    "#Change \"date\" according to the name of the wanted output\n",
    "date = \"20220615-113621\"\n",
    "path = os.path.join(os.getcwd(),\"output\",date,\"losses\")\n"
   ]
  },
  {
   "cell_type": "code",
   "execution_count": 42,
   "id": "9f269dcd",
   "metadata": {},
   "outputs": [
    {
     "name": "stderr",
     "output_type": "stream",
     "text": [
      "/tmp/ipykernel_1310948/1478388781.py:10: ParserWarning: Length of header or names does not match length of data. This leads to a loss of data with index_col=False.\n",
      "  DF_list.append(pd.read_csv(file,index_col=False))\n"
     ]
    }
   ],
   "source": [
    "losses = [\"  d_B \", \"d_P_ll\",\"s_B_merge_summ\",'[  g_B ','  d_A ',' d_P  ','[  g_A '] # 0-6\n",
    "DF_list = list()\n",
    "files =[x for x in os.listdir(path) if x.endswith(\".txt\")]\n",
    "\n",
    "#Iterate over all the single-loss files\n",
    "for i,loss_file in enumerate(files):\n",
    "    with open(os.path.join(path,loss_file),\"r\") as file:\n",
    "        \n",
    "        if loss_file == \"s_B_loss_merge_summ.txt\":\n",
    "            DF_list.append(pd.read_csv(file,index_col=False))\n",
    "        \n",
    "        elif loss_file.startswith(\"g_loss\"):\n",
    "            df = pd.read_csv(file,header=None)\n",
    "            if loss_file == \"g_loss_B.txt\":\n",
    "                df.drop(columns=df.columns[3], axis=1, inplace = True)\n",
    "                df.rename(columns={0:losses[i],1:\"cycl_b\",2:\"tot_gb]\"}, inplace=True)\n",
    "            else:\n",
    "                df.rename(columns={3:\" iter #\"}, inplace=True)\n",
    "                df.rename(columns={0:losses[i],1:\"cycl_a\",2:\"tot_ga]\"}, inplace=True)\n",
    "            \n",
    "\n",
    "            DF_list.append(df)\n",
    "        \n",
    "        else:\n",
    "            #csv to dataframe\n",
    "            df = pd.read_csv(file,header=None)\n",
    "            #drop the iteration column\n",
    "            df.drop(columns=df.columns[1], axis=1,inplace=True)\n",
    "            df.rename(columns={0:losses[i]}, inplace=True)\n",
    "            DF_list.append(df)\n",
    "            \n",
    "\n",
    "for i,df in enumerate(DF_list):\n",
    "    # Concatenate each loss in a single dataframe\n",
    "    if i==0:\n",
    "        tot_df = df\n",
    "    else:\n",
    "        tot_df = pd.concat([tot_df, df], axis=1)\n",
    "\n",
    "#Save a file containing all the losses\n",
    "tot_df.to_csv(f\"{path}/tot_losses.csv\",float_format='%4.4f',index=False)\n",
    "\n",
    "#REMOVE BIG FILES ==> Model savings\n",
    "\n",
    "#%cd {home_path}/SIFA/output/{date}\n",
    "#!rm sifa*data*\n",
    "#!rm *.meta\n"
   ]
  },
  {
   "cell_type": "markdown",
   "id": "eaf199c6",
   "metadata": {},
   "source": [
    "## Plot Losses"
   ]
  },
  {
   "cell_type": "code",
   "execution_count": 43,
   "id": "f739c291",
   "metadata": {},
   "outputs": [
    {
     "name": "stdout",
     "output_type": "stream",
     "text": [
      "/home/falcetta/FINAL_VERSION/SIFA-Tensorflow2\n",
      "./SIFA/output/20220615-113621/losses/tot_losses.csv\n"
     ]
    }
   ],
   "source": [
    "%cd {home_path}\n",
    "!find . -name \"tot_losses.csv\" > loss_path.txt\n",
    "!find . -name \"tot_losses.csv\""
   ]
  },
  {
   "cell_type": "code",
   "execution_count": 44,
   "id": "9dee5417",
   "metadata": {},
   "outputs": [],
   "source": [
    "def preprocess_line(line):\n",
    "    #line = line.split(\",\")\n",
    "    line=line.replace(\"[\",\"\")\n",
    "    line=line.replace(\"]\",\"\")\n",
    "    line=line.replace(\"\\n\",\"\")\n",
    "    line=line.replace(\"iter:\",\"\")\n",
    "    line=line.replace(\"'\",\"\")\n",
    "    line=line.replace(\" \",\"\")\n",
    "    return line"
   ]
  },
  {
   "cell_type": "code",
   "execution_count": 45,
   "id": "80f05c62",
   "metadata": {},
   "outputs": [
    {
     "name": "stdout",
     "output_type": "stream",
     "text": [
      "./SIFA/output/20220615-113621/losses/tot_losses.csv\n",
      "\n"
     ]
    }
   ],
   "source": [
    "with open(\"loss_path.txt\",\"r\") as files_list:\n",
    "    for file in files_list:\n",
    "        print(file)"
   ]
  },
  {
   "cell_type": "code",
   "execution_count": 46,
   "id": "7ac085ef",
   "metadata": {},
   "outputs": [
    {
     "data": {
      "text/html": [
       "<div>\n",
       "<style scoped>\n",
       "    .dataframe tbody tr th:only-of-type {\n",
       "        vertical-align: middle;\n",
       "    }\n",
       "\n",
       "    .dataframe tbody tr th {\n",
       "        vertical-align: top;\n",
       "    }\n",
       "\n",
       "    .dataframe thead th {\n",
       "        text-align: right;\n",
       "    }\n",
       "</style>\n",
       "<table border=\"1\" class=\"dataframe\">\n",
       "  <thead>\n",
       "    <tr style=\"text-align: right;\">\n",
       "      <th></th>\n",
       "      <th>d_B</th>\n",
       "      <th>d_P_ll</th>\n",
       "      <th>ce_B</th>\n",
       "      <th>dice_B</th>\n",
       "      <th>l2_B</th>\n",
       "      <th>seg_B</th>\n",
       "      <th>g_B</th>\n",
       "      <th>cycl_b</th>\n",
       "      <th>tot_gb</th>\n",
       "      <th>d_A</th>\n",
       "      <th>d_P</th>\n",
       "      <th>g_A</th>\n",
       "      <th>cycl_a</th>\n",
       "      <th>tot_ga</th>\n",
       "      <th>iter#</th>\n",
       "    </tr>\n",
       "  </thead>\n",
       "  <tbody>\n",
       "    <tr>\n",
       "      <th>0</th>\n",
       "      <td>0.5246</td>\n",
       "      <td>0.3457</td>\n",
       "      <td>0.1038</td>\n",
       "      <td>0.4529</td>\n",
       "      <td>0.7222</td>\n",
       "      <td>1.9348</td>\n",
       "      <td>0.8082</td>\n",
       "      <td>1.3656</td>\n",
       "      <td>3.6469</td>\n",
       "      <td>0.9948</td>\n",
       "      <td>0.5446</td>\n",
       "      <td>0.9883</td>\n",
       "      <td>1.3770</td>\n",
       "      <td>3.9087</td>\n",
       "      <td>0</td>\n",
       "    </tr>\n",
       "    <tr>\n",
       "      <th>1</th>\n",
       "      <td>0.2599</td>\n",
       "      <td>0.2559</td>\n",
       "      <td>0.0664</td>\n",
       "      <td>0.2962</td>\n",
       "      <td>0.7188</td>\n",
       "      <td>1.2673</td>\n",
       "      <td>0.2583</td>\n",
       "      <td>0.3063</td>\n",
       "      <td>1.0551</td>\n",
       "      <td>0.4714</td>\n",
       "      <td>0.2827</td>\n",
       "      <td>0.2652</td>\n",
       "      <td>0.5105</td>\n",
       "      <td>1.0650</td>\n",
       "      <td>100</td>\n",
       "    </tr>\n",
       "    <tr>\n",
       "      <th>2</th>\n",
       "      <td>0.2838</td>\n",
       "      <td>0.2495</td>\n",
       "      <td>0.0523</td>\n",
       "      <td>0.0795</td>\n",
       "      <td>0.7141</td>\n",
       "      <td>0.9927</td>\n",
       "      <td>0.2550</td>\n",
       "      <td>0.1757</td>\n",
       "      <td>0.7933</td>\n",
       "      <td>0.5001</td>\n",
       "      <td>0.2514</td>\n",
       "      <td>0.2669</td>\n",
       "      <td>0.3477</td>\n",
       "      <td>0.7701</td>\n",
       "      <td>200</td>\n",
       "    </tr>\n",
       "    <tr>\n",
       "      <th>3</th>\n",
       "      <td>0.2507</td>\n",
       "      <td>0.5762</td>\n",
       "      <td>0.0302</td>\n",
       "      <td>0.1296</td>\n",
       "      <td>0.7173</td>\n",
       "      <td>1.0844</td>\n",
       "      <td>0.2729</td>\n",
       "      <td>0.1769</td>\n",
       "      <td>0.7917</td>\n",
       "      <td>0.4964</td>\n",
       "      <td>0.2746</td>\n",
       "      <td>0.2636</td>\n",
       "      <td>0.3265</td>\n",
       "      <td>0.7363</td>\n",
       "      <td>300</td>\n",
       "    </tr>\n",
       "    <tr>\n",
       "      <th>4</th>\n",
       "      <td>0.2670</td>\n",
       "      <td>0.4651</td>\n",
       "      <td>0.0902</td>\n",
       "      <td>0.0912</td>\n",
       "      <td>0.7154</td>\n",
       "      <td>1.0664</td>\n",
       "      <td>0.3235</td>\n",
       "      <td>0.1534</td>\n",
       "      <td>0.5872</td>\n",
       "      <td>0.5089</td>\n",
       "      <td>0.2485</td>\n",
       "      <td>0.2189</td>\n",
       "      <td>0.2125</td>\n",
       "      <td>0.7125</td>\n",
       "      <td>400</td>\n",
       "    </tr>\n",
       "    <tr>\n",
       "      <th>...</th>\n",
       "      <td>...</td>\n",
       "      <td>...</td>\n",
       "      <td>...</td>\n",
       "      <td>...</td>\n",
       "      <td>...</td>\n",
       "      <td>...</td>\n",
       "      <td>...</td>\n",
       "      <td>...</td>\n",
       "      <td>...</td>\n",
       "      <td>...</td>\n",
       "      <td>...</td>\n",
       "      <td>...</td>\n",
       "      <td>...</td>\n",
       "      <td>...</td>\n",
       "      <td>...</td>\n",
       "    </tr>\n",
       "    <tr>\n",
       "      <th>395</th>\n",
       "      <td>0.0044</td>\n",
       "      <td>0.4184</td>\n",
       "      <td>0.0276</td>\n",
       "      <td>0.2714</td>\n",
       "      <td>0.3720</td>\n",
       "      <td>2.1922</td>\n",
       "      <td>0.9377</td>\n",
       "      <td>12.4609</td>\n",
       "      <td>13.3109</td>\n",
       "      <td>0.2171</td>\n",
       "      <td>0.2093</td>\n",
       "      <td>0.3109</td>\n",
       "      <td>0.5298</td>\n",
       "      <td>14.0455</td>\n",
       "      <td>39500</td>\n",
       "    </tr>\n",
       "    <tr>\n",
       "      <th>396</th>\n",
       "      <td>0.0038</td>\n",
       "      <td>0.4016</td>\n",
       "      <td>0.0194</td>\n",
       "      <td>0.3531</td>\n",
       "      <td>0.3712</td>\n",
       "      <td>2.2489</td>\n",
       "      <td>0.9989</td>\n",
       "      <td>12.4977</td>\n",
       "      <td>13.3551</td>\n",
       "      <td>0.2145</td>\n",
       "      <td>0.3589</td>\n",
       "      <td>0.3284</td>\n",
       "      <td>0.5446</td>\n",
       "      <td>14.0423</td>\n",
       "      <td>39600</td>\n",
       "    </tr>\n",
       "    <tr>\n",
       "      <th>397</th>\n",
       "      <td>0.0039</td>\n",
       "      <td>0.3758</td>\n",
       "      <td>0.0619</td>\n",
       "      <td>0.1579</td>\n",
       "      <td>0.3705</td>\n",
       "      <td>2.1120</td>\n",
       "      <td>0.9855</td>\n",
       "      <td>12.4756</td>\n",
       "      <td>13.2720</td>\n",
       "      <td>0.2185</td>\n",
       "      <td>0.2053</td>\n",
       "      <td>0.2816</td>\n",
       "      <td>0.5289</td>\n",
       "      <td>14.0329</td>\n",
       "      <td>39700</td>\n",
       "    </tr>\n",
       "    <tr>\n",
       "      <th>398</th>\n",
       "      <td>0.0035</td>\n",
       "      <td>0.3398</td>\n",
       "      <td>0.0518</td>\n",
       "      <td>0.1926</td>\n",
       "      <td>0.3697</td>\n",
       "      <td>2.1100</td>\n",
       "      <td>1.0033</td>\n",
       "      <td>12.4985</td>\n",
       "      <td>13.2349</td>\n",
       "      <td>0.2269</td>\n",
       "      <td>0.2906</td>\n",
       "      <td>0.2686</td>\n",
       "      <td>0.4722</td>\n",
       "      <td>13.9666</td>\n",
       "      <td>39800</td>\n",
       "    </tr>\n",
       "    <tr>\n",
       "      <th>399</th>\n",
       "      <td>0.0034</td>\n",
       "      <td>0.3136</td>\n",
       "      <td>0.0458</td>\n",
       "      <td>0.1705</td>\n",
       "      <td>0.3689</td>\n",
       "      <td>2.0783</td>\n",
       "      <td>0.9996</td>\n",
       "      <td>12.4734</td>\n",
       "      <td>13.2646</td>\n",
       "      <td>0.2188</td>\n",
       "      <td>0.7680</td>\n",
       "      <td>0.2756</td>\n",
       "      <td>0.4829</td>\n",
       "      <td>13.9547</td>\n",
       "      <td>39900</td>\n",
       "    </tr>\n",
       "  </tbody>\n",
       "</table>\n",
       "<p>400 rows × 15 columns</p>\n",
       "</div>"
      ],
      "text/plain": [
       "        d_B  d_P_ll    ce_B  dice_B    l2_B   seg_B     g_B   cycl_b   tot_gb  \\\n",
       "0    0.5246  0.3457  0.1038  0.4529  0.7222  1.9348  0.8082   1.3656   3.6469   \n",
       "1    0.2599  0.2559  0.0664  0.2962  0.7188  1.2673  0.2583   0.3063   1.0551   \n",
       "2    0.2838  0.2495  0.0523  0.0795  0.7141  0.9927  0.2550   0.1757   0.7933   \n",
       "3    0.2507  0.5762  0.0302  0.1296  0.7173  1.0844  0.2729   0.1769   0.7917   \n",
       "4    0.2670  0.4651  0.0902  0.0912  0.7154  1.0664  0.3235   0.1534   0.5872   \n",
       "..      ...     ...     ...     ...     ...     ...     ...      ...      ...   \n",
       "395  0.0044  0.4184  0.0276  0.2714  0.3720  2.1922  0.9377  12.4609  13.3109   \n",
       "396  0.0038  0.4016  0.0194  0.3531  0.3712  2.2489  0.9989  12.4977  13.3551   \n",
       "397  0.0039  0.3758  0.0619  0.1579  0.3705  2.1120  0.9855  12.4756  13.2720   \n",
       "398  0.0035  0.3398  0.0518  0.1926  0.3697  2.1100  1.0033  12.4985  13.2349   \n",
       "399  0.0034  0.3136  0.0458  0.1705  0.3689  2.0783  0.9996  12.4734  13.2646   \n",
       "\n",
       "        d_A     d_P     g_A  cycl_a   tot_ga  iter#  \n",
       "0    0.9948  0.5446  0.9883  1.3770   3.9087      0  \n",
       "1    0.4714  0.2827  0.2652  0.5105   1.0650    100  \n",
       "2    0.5001  0.2514  0.2669  0.3477   0.7701    200  \n",
       "3    0.4964  0.2746  0.2636  0.3265   0.7363    300  \n",
       "4    0.5089  0.2485  0.2189  0.2125   0.7125    400  \n",
       "..      ...     ...     ...     ...      ...    ...  \n",
       "395  0.2171  0.2093  0.3109  0.5298  14.0455  39500  \n",
       "396  0.2145  0.3589  0.3284  0.5446  14.0423  39600  \n",
       "397  0.2185  0.2053  0.2816  0.5289  14.0329  39700  \n",
       "398  0.2269  0.2906  0.2686  0.4722  13.9666  39800  \n",
       "399  0.2188  0.7680  0.2756  0.4829  13.9547  39900  \n",
       "\n",
       "[400 rows x 15 columns]"
      ]
     },
     "execution_count": 46,
     "metadata": {},
     "output_type": "execute_result"
    }
   ],
   "source": [
    "import pandas as pd\n",
    "#Select a file from the above list\n",
    "file_name = \"./SIFA/output/20220615-113621/losses/tot_losses.csv\"\n",
    "#file_name = \"./SIFA/output/{date}/losses/tot_losses.csv\"\n",
    "df = pd.DataFrame(columns = ['d_B', 'd_P_ll', 'ce_B', 'dice_B', 'l2_B', 'seg_B', 'g_B', 'cycl_b', 'tot_gb', 'd_A', 'd_P', 'g_A', 'cycl_a', 'tot_ga', 'iter#'])\n",
    "\n",
    "with open(file_name,\"r\") as f:\n",
    "    for i,line in enumerate(f):\n",
    "        line = preprocess_line(line)\n",
    "        line = line.split(\",\")\n",
    "        if i!=0:\n",
    "            df.loc[len(df)] = line\n",
    "\n",
    "        \n",
    "df"
   ]
  },
  {
   "cell_type": "code",
   "execution_count": 47,
   "id": "d5b9a0e3",
   "metadata": {},
   "outputs": [
    {
     "name": "stdout",
     "output_type": "stream",
     "text": [
      "d_B       object\n",
      "d_P_ll    object\n",
      "ce_B      object\n",
      "dice_B    object\n",
      "l2_B      object\n",
      "seg_B     object\n",
      "g_B       object\n",
      "cycl_b    object\n",
      "tot_gb    object\n",
      "d_A       object\n",
      "d_P       object\n",
      "g_A       object\n",
      "cycl_a    object\n",
      "tot_ga    object\n",
      "iter#     object\n",
      "dtype: object\n"
     ]
    }
   ],
   "source": [
    "print(df.dtypes)\n",
    "for col in df.columns:\n",
    "    df[col]=df[col].astype(float)"
   ]
  },
  {
   "cell_type": "code",
   "execution_count": 48,
   "id": "24fe8a06",
   "metadata": {},
   "outputs": [
    {
     "data": {
      "text/html": [
       "<style>.output_png {\n",
       "    display: table-cell;\n",
       "    text-align: center;\n",
       "    vertical-align: middle;}\n",
       "    </style>"
      ],
      "text/plain": [
       "<IPython.core.display.HTML object>"
      ]
     },
     "execution_count": 48,
     "metadata": {},
     "output_type": "execute_result"
    }
   ],
   "source": [
    "from IPython.core.display import HTML\n",
    "HTML(\"\"\"<style>.output_png {\n",
    "    display: table-cell;\n",
    "    text-align: center;\n",
    "    vertical-align: middle;}\n",
    "    </style>\"\"\")"
   ]
  },
  {
   "cell_type": "code",
   "execution_count": 49,
   "id": "be5a69db",
   "metadata": {},
   "outputs": [
    {
     "data": {
      "image/png": "[encoded data removed]",
      "text/plain": [
       "<Figure size 1440x360 with 3 Axes>"
      ]
     },
     "metadata": {
      "needs_background": "light"
     },
     "output_type": "display_data"
    },
    {
     "data": {
      "text/plain": [
       "<AxesSubplot:title={'center':'Tot Seg Loss'}, xlabel='iter#'>"
      ]
     },
     "execution_count": 49,
     "metadata": {},
     "output_type": "execute_result"
    },
    {
     "data": {
      "image/png": "[encoded data removed]",
      "text/plain": [
       "<Figure size 432x288 with 1 Axes>"
      ]
     },
     "metadata": {
      "needs_background": "light"
     },
     "output_type": "display_data"
    }
   ],
   "source": [
    "#Segmentation Loss\n",
    "import matplotlib.pyplot as plt\n",
    "columns = ['ce_B', 'dice_B', 'l2_B']\n",
    "fig, axs = plt.subplots(1,3,figsize=(20,5))\n",
    "for ax,col in zip(axs.ravel(),columns):\n",
    "    if col != \"iter#\":\n",
    "        df.plot(x ='iter#', y=col, kind = 'line',ax=ax, title=f\"Segmentation Loss: {col} \")\n",
    "plt.show()\n",
    "\n",
    "df.plot(x ='iter#', y='seg_B', kind = 'line', title=f\"Tot Seg Loss\")"
   ]
  },
  {
   "cell_type": "code",
   "execution_count": 50,
   "id": "dc6bce45",
   "metadata": {},
   "outputs": [
    {
     "data": {
      "image/png": "[encoded data removed]",
      "text/plain": [
       "<Figure size 1440x360 with 3 Axes>"
      ]
     },
     "metadata": {
      "needs_background": "light"
     },
     "output_type": "display_data"
    }
   ],
   "source": [
    "#Generator Loss B\n",
    "columns = ['g_B', 'cycl_b', 'tot_gb']\n",
    "fig, axs = plt.subplots(1,3,figsize=(20,5))\n",
    "for ax,col in zip(axs.ravel(),columns):\n",
    "    if col != \"iter#\":\n",
    "        df.plot(x ='iter#', y=col, kind = 'line',ax=ax, title=f\"Generator Loss A: {col} \")\n",
    "plt.show()"
   ]
  },
  {
   "cell_type": "code",
   "execution_count": 51,
   "id": "d518f27d",
   "metadata": {},
   "outputs": [
    {
     "data": {
      "image/png": "[encoded data removed]",
      "text/plain": [
       "<Figure size 1440x360 with 3 Axes>"
      ]
     },
     "metadata": {
      "needs_background": "light"
     },
     "output_type": "display_data"
    }
   ],
   "source": [
    "#Generator Loss A\n",
    "columns = ['g_A', 'cycl_a', 'tot_ga']\n",
    "fig, axs = plt.subplots(1,3,figsize=(20,5))\n",
    "for ax,col in zip(axs.ravel(),columns):\n",
    "    if col != \"iter#\":\n",
    "        df.plot(x ='iter#', y=col, kind = 'line',ax=ax,title=f\"Generator Loss B: {col} \")\n",
    "plt.show()"
   ]
  },
  {
   "cell_type": "code",
   "execution_count": 52,
   "id": "2d096705",
   "metadata": {},
   "outputs": [
    {
     "data": {
      "image/png": "[encoded data removed]",
      "text/plain": [
       "<Figure size 1080x360 with 2 Axes>"
      ]
     },
     "metadata": {
      "needs_background": "light"
     },
     "output_type": "display_data"
    }
   ],
   "source": [
    "#Segmentation Discriminator Loss\n",
    "columns = ['d_P', 'd_P_ll']\n",
    "fig, axs = plt.subplots(1,2,figsize=(15,5))\n",
    "for ax,col in zip(axs.ravel(),columns):\n",
    "    if col != \"iter#\":\n",
    "        df.plot(x ='iter#', y=col, kind = 'line',ax=ax, title=f\"Discriminator Mask Loss: {col} \")\n",
    "plt.show()"
   ]
  },
  {
   "cell_type": "code",
   "execution_count": 53,
   "id": "05127674",
   "metadata": {},
   "outputs": [
    {
     "data": {
      "image/png": "[encoded data removed]",
      "text/plain": [
       "<Figure size 864x360 with 2 Axes>"
      ]
     },
     "metadata": {
      "needs_background": "light"
     },
     "output_type": "display_data"
    }
   ],
   "source": [
    "#Discriminator Loss\n",
    "columns = ['d_A','d_B']\n",
    "fig, axs = plt.subplots(1,2,figsize=(12,5))\n",
    "for ax,col in zip(axs.ravel(),columns):\n",
    "    if col != \"iter#\":\n",
    "        df.plot(x ='iter#', y=col, kind = 'line',ax=ax)\n",
    "plt.show()"
   ]
  },
  {
   "cell_type": "code",
   "execution_count": null,
   "id": "27dee3f2",
   "metadata": {},
   "outputs": [],
   "source": []
  }
 ],
 "metadata": {
  "kernelspec": {
   "display_name": "Python 3 (ipykernel)",
   "language": "python",
   "name": "python3"
  },
  "language_info": {
   "codemirror_mode": {
    "name": "ipython",
    "version": 3
   },
   "file_extension": ".py",
   "mimetype": "text/x-python",
   "name": "python",
   "nbconvert_exporter": "python",
   "pygments_lexer": "ipython3",
   "version": "3.8.10"
  }
 },
 "nbformat": 4,
 "nbformat_minor": 5
}
